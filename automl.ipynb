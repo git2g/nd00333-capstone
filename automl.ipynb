{
  "cells": [
    {
      "cell_type": "markdown",
      "source": [
        "# Automated ML\n",
        "\n",
        "TODO: Import Dependencies. In the cell below, import all the dependencies that you will need to complete the project."
      ],
      "metadata": {}
    },
    {
      "cell_type": "code",
      "source": [
        "import sklearn\n",
        "from sklearn.model_selection import train_test_split\n",
        "from azureml.core import Dataset, Environment, Experiment, Workspace\n",
        "from azureml.core.conda_dependencies import CondaDependencies\n",
        "from azureml.core.model import InferenceConfig\n",
        "from azureml.core.webservice import AciWebservice\n",
        "from azureml.train.automl import AutoMLConfig\n",
        "from azureml.widgets import RunDetails\n",
        "import pandas as pd\n",
        "import joblib"
      ],
      "outputs": [],
      "execution_count": 1,
      "metadata": {
        "gather": {
          "logged": 1629775771125
        },
        "jupyter": {
          "outputs_hidden": false,
          "source_hidden": false
        },
        "nteract": {
          "transient": {
            "deleting": false
          }
        }
      }
    },
    {
      "cell_type": "markdown",
      "source": [
        "## Dataset\n",
        "\n",
        "### Overview\n",
        "TODO: In this markdown cell, give an overview of the dataset you are using. Also mention the task you will be performing.\n",
        "\n",
        "\n",
        "TODO: Get data. In the cell below, write code to access the data you will be using in this project. Remember that the dataset needs to be external."
      ],
      "metadata": {}
    },
    {
      "cell_type": "code",
      "source": [
        "ws = Workspace.from_config()\n",
        "\n",
        "# choose a name for experiment\n",
        "experiment_name = 'automl-experiment'\n",
        "\n",
        "experiment=Experiment(ws, experiment_name)\n",
        "experiment"
      ],
      "outputs": [
        {
          "output_type": "execute_result",
          "execution_count": 2,
          "data": {
            "text/plain": "Experiment(Name: automl-experiment,\nWorkspace: kgovindmlwk)",
            "text/html": "<table style=\"width:100%\"><tr><th>Name</th><th>Workspace</th><th>Report Page</th><th>Docs Page</th></tr><tr><td>automl-experiment</td><td>kgovindmlwk</td><td><a href=\"https://ml.azure.com/experiments/id/22b0680a-a3ff-492f-868a-0d535f1ba73e?wsid=/subscriptions/417646f6-643f-4fcd-96b8-77997bfdfac3/resourcegroups/kgovind-ml-wksp/workspaces/kgovindmlwk&amp;tid=2d8cc149-4c57-462b-a1fb-6e548ffd73bd\" target=\"_blank\" rel=\"noopener\">Link to Azure Machine Learning studio</a></td><td><a href=\"https://docs.microsoft.com/en-us/python/api/azureml-core/azureml.core.experiment.Experiment?view=azure-ml-py\" target=\"_blank\" rel=\"noopener\">Link to Documentation</a></td></tr></table>"
          },
          "metadata": {}
        }
      ],
      "execution_count": 2,
      "metadata": {
        "gather": {
          "logged": 1629775772174
        },
        "jupyter": {
          "outputs_hidden": false,
          "source_hidden": false
        },
        "nteract": {
          "transient": {
            "deleting": false
          }
        }
      }
    },
    {
      "cell_type": "code",
      "source": [
        "from azureml.core.compute import AmlCompute\r\n",
        "from azureml.core.compute import ComputeTarget\r\n",
        "from azureml.core.compute_target import ComputeTargetException\r\n",
        "\r\n",
        "# NOTE: update the cluster name to match the existing cluster\r\n",
        "# Choose a name for your CPU cluster\r\n",
        "amlcompute_cluster_name = \"govindk-nvidia-gpunode\"\r\n",
        "\r\n",
        "# Verify that cluster does not exist already\r\n",
        "try:\r\n",
        "    compute_target = ComputeTarget(workspace=ws, name=amlcompute_cluster_name)\r\n",
        "    print('Found existing cluster, use it.')\r\n",
        "except ComputeTargetException:\r\n",
        "    compute_config = AmlCompute.provisioning_configuration(vm_size='STANDARD_D2_V2',# for GPU, use \"STANDARD_NC6\"\r\n",
        "                                                           #vm_priority = 'lowpriority', # optional\r\n",
        "                                                           max_nodes=4)\r\n",
        "    compute_target = ComputeTarget.create(ws, amlcompute_cluster_name, compute_config)\r\n",
        "\r\n",
        "compute_target.wait_for_completion(show_output=True)\r\n",
        "# For a more detailed view of current AmlCompute status, use get_status()."
      ],
      "outputs": [
        {
          "output_type": "stream",
          "name": "stdout",
          "text": [
            "Found existing cluster, use it.\n",
            "\n",
            "Running\n"
          ]
        }
      ],
      "execution_count": 3,
      "metadata": {
        "collapsed": true,
        "jupyter": {
          "source_hidden": false,
          "outputs_hidden": false
        },
        "nteract": {
          "transient": {
            "deleting": false
          }
        },
        "gather": {
          "logged": 1629775777127
        }
      }
    },
    {
      "cell_type": "code",
      "source": [
        "# create a TabularDataset from a dataset\n",
        "\n",
        "ds = Dataset.get_by_name(ws, name='uci_heart_disease')\n",
        "df = ds.to_pandas_dataframe()\n",
        "\n",
        "x = df.dropna()\n",
        "y = x.pop('target')\n",
        "\n",
        "x_train, x_test, y_train, y_test = train_test_split(x, y)\n",
        "dataset = pd.concat([x_train,y_train],axis=1)\n",
        "type(dataset)"
      ],
      "outputs": [
        {
          "output_type": "execute_result",
          "execution_count": 4,
          "data": {
            "text/plain": "pandas.core.frame.DataFrame"
          },
          "metadata": {}
        }
      ],
      "execution_count": 4,
      "metadata": {
        "gather": {
          "logged": 1629775781234
        },
        "jupyter": {
          "outputs_hidden": false,
          "source_hidden": false
        },
        "nteract": {
          "transient": {
            "deleting": false
          }
        }
      }
    },
    {
      "cell_type": "markdown",
      "source": [
        "## AutoML Configuration\n",
        "\n",
        "TODO: Explain why you chose the automl settings and cofiguration you used below."
      ],
      "metadata": {}
    },
    {
      "cell_type": "code",
      "source": [
        "project_folder = './Udacity-Capstone-Project-master'\n",
        "automl_settings = {\n",
        "    \"compute_target\": compute_target,\n",
        "    \"task\": 'classification',\n",
        "    \"iterations\": 30,\n",
        "    \"experiment_timeout_minutes\": 15,\n",
        "    \"primary_metric\": 'accuracy',\n",
        "    \"path\": project_folder,\n",
        "    \"label_column_name\": 'target',\n",
        "    \"n_cross_validations\": 5,\n",
        "    \"max_concurrent_iterations\": 30,\n",
        "    \"featurization\": 'auto',\n",
        "    \"debug_log\": \"automl_errors.log\",\n",
        "    \"enable_early_stopping\": True\n",
        "}\n",
        "\n",
        "\n",
        "# TODO: Put your automl config here\n",
        "automl_config = AutoMLConfig(training_data=ds, **automl_settings)"
      ],
      "outputs": [],
      "execution_count": 5,
      "metadata": {
        "gather": {
          "logged": 1629775781446
        },
        "jupyter": {
          "outputs_hidden": false,
          "source_hidden": false
        },
        "nteract": {
          "transient": {
            "deleting": false
          }
        }
      }
    },
    {
      "cell_type": "markdown",
      "source": [
        "## Run Details\n",
        "\n",
        "OPTIONAL: Write about the different models trained and their performance. Why do you think some models did better than others?\n",
        "\n",
        "TODO: In the cell below, use the `RunDetails` widget to show the different experiments."
      ],
      "metadata": {}
    },
    {
      "cell_type": "code",
      "source": [
        "# TODO: Submit your experiment\n",
        "remote_run = experiment.submit(automl_config)\n",
        "RunDetails(remote_run).show()\n",
        "remote_run.wait_for_completion(show_output=False)"
      ],
      "outputs": [
        {
          "output_type": "stream",
          "name": "stdout",
          "text": [
            "Submitting remote run.\n"
          ]
        },
        {
          "output_type": "display_data",
          "data": {
            "text/plain": "<IPython.core.display.HTML object>",
            "text/html": "<table style=\"width:100%\"><tr><th>Experiment</th><th>Id</th><th>Type</th><th>Status</th><th>Details Page</th><th>Docs Page</th></tr><tr><td>automl-experiment</td><td>AutoML_8f8525ee-e6a1-462e-a49a-e549b66fe06f</td><td>automl</td><td>NotStarted</td><td><a href=\"https://ml.azure.com/runs/AutoML_8f8525ee-e6a1-462e-a49a-e549b66fe06f?wsid=/subscriptions/417646f6-643f-4fcd-96b8-77997bfdfac3/resourcegroups/kgovind-ml-wksp/workspaces/kgovindmlwk&amp;tid=2d8cc149-4c57-462b-a1fb-6e548ffd73bd\" target=\"_blank\" rel=\"noopener\">Link to Azure Machine Learning studio</a></td><td><a href=\"https://docs.microsoft.com/en-us/python/api/overview/azure/ml/intro?view=azure-ml-py\" target=\"_blank\" rel=\"noopener\">Link to Documentation</a></td></tr></table>"
          },
          "metadata": {}
        },
        {
          "output_type": "display_data",
          "data": {
            "text/plain": "_AutoMLWidget(widget_settings={'childWidgetDisplay': 'popup', 'send_telemetry': False, 'log_level': 'INFO', 's…",
            "application/vnd.jupyter.widget-view+json": {
              "version_major": 2,
              "version_minor": 0,
              "model_id": "a03975a32fd344f68ac1b9ea9d47b0ef"
            }
          },
          "metadata": {}
        },
        {
          "output_type": "display_data",
          "data": {
            "application/aml.mini.widget.v1": "{\"status\": \"Completed\", \"workbench_run_details_uri\": \"https://ml.azure.com/runs/AutoML_8f8525ee-e6a1-462e-a49a-e549b66fe06f?wsid=/subscriptions/417646f6-643f-4fcd-96b8-77997bfdfac3/resourcegroups/kgovind-ml-wksp/workspaces/kgovindmlwk&tid=2d8cc149-4c57-462b-a1fb-6e548ffd73bd\", \"run_id\": \"AutoML_8f8525ee-e6a1-462e-a49a-e549b66fe06f\", \"run_properties\": {\"run_id\": \"AutoML_8f8525ee-e6a1-462e-a49a-e549b66fe06f\", \"created_utc\": \"2021-08-24T03:29:44.570103Z\", \"properties\": {\"num_iterations\": \"30\", \"training_type\": \"TrainFull\", \"acquisition_function\": \"EI\", \"primary_metric\": \"accuracy\", \"train_split\": \"0\", \"acquisition_parameter\": \"0\", \"num_cross_validation\": \"5\", \"target\": \"govindk-nvidia-gpunode\", \"AMLSettingsJsonString\": \"{\\\"path\\\":null,\\\"name\\\":\\\"automl-experiment\\\",\\\"subscription_id\\\":\\\"417646f6-643f-4fcd-96b8-77997bfdfac3\\\",\\\"resource_group\\\":\\\"kgovind-ml-wksp\\\",\\\"workspace_name\\\":\\\"kgovindmlwk\\\",\\\"region\\\":\\\"eastus\\\",\\\"compute_target\\\":\\\"govindk-nvidia-gpunode\\\",\\\"spark_service\\\":null,\\\"azure_service\\\":\\\"remote\\\",\\\"many_models\\\":false,\\\"pipeline_fetch_max_batch_size\\\":1,\\\"enable_batch_run\\\":false,\\\"enable_run_restructure\\\":false,\\\"start_auxiliary_runs_before_parent_complete\\\":false,\\\"enable_code_generation\\\":false,\\\"iterations\\\":30,\\\"primary_metric\\\":\\\"accuracy\\\",\\\"task_type\\\":\\\"classification\\\",\\\"data_script\\\":null,\\\"test_size\\\":0.0,\\\"validation_size\\\":0.0,\\\"n_cross_validations\\\":5,\\\"y_min\\\":null,\\\"y_max\\\":null,\\\"num_classes\\\":null,\\\"featurization\\\":\\\"auto\\\",\\\"_ignore_package_version_incompatibilities\\\":false,\\\"is_timeseries\\\":false,\\\"max_cores_per_iteration\\\":1,\\\"max_concurrent_iterations\\\":30,\\\"iteration_timeout_minutes\\\":null,\\\"mem_in_mb\\\":null,\\\"enforce_time_on_windows\\\":false,\\\"experiment_timeout_minutes\\\":15,\\\"experiment_exit_score\\\":null,\\\"whitelist_models\\\":null,\\\"blacklist_algos\\\":[\\\"TensorFlowLinearClassifier\\\",\\\"TensorFlowDNN\\\"],\\\"supported_models\\\":[\\\"RandomForest\\\",\\\"LinearSVM\\\",\\\"GradientBoosting\\\",\\\"SGD\\\",\\\"DecisionTree\\\",\\\"ExtremeRandomTrees\\\",\\\"LogisticRegression\\\",\\\"BernoulliNaiveBayes\\\",\\\"KNN\\\",\\\"AveragedPerceptronClassifier\\\",\\\"TensorFlowLinearClassifier\\\",\\\"MultinomialNaiveBayes\\\",\\\"TensorFlowDNN\\\",\\\"LightGBM\\\",\\\"SVM\\\",\\\"XGBoostClassifier\\\"],\\\"private_models\\\":[],\\\"auto_blacklist\\\":true,\\\"blacklist_samples_reached\\\":false,\\\"exclude_nan_labels\\\":true,\\\"verbosity\\\":20,\\\"_debug_log\\\":\\\"azureml_automl.log\\\",\\\"show_warnings\\\":false,\\\"model_explainability\\\":true,\\\"service_url\\\":null,\\\"sdk_url\\\":null,\\\"sdk_packages\\\":null,\\\"enable_onnx_compatible_models\\\":false,\\\"enable_split_onnx_featurizer_estimator_models\\\":false,\\\"vm_type\\\":\\\"STANDARD_NC24\\\",\\\"telemetry_verbosity\\\":20,\\\"send_telemetry\\\":true,\\\"enable_dnn\\\":false,\\\"scenario\\\":\\\"SDK-1.13.0\\\",\\\"environment_label\\\":null,\\\"save_mlflow\\\":false,\\\"force_text_dnn\\\":false,\\\"enable_feature_sweeping\\\":true,\\\"enable_early_stopping\\\":true,\\\"early_stopping_n_iters\\\":10,\\\"metrics\\\":null,\\\"enable_metric_confidence\\\":false,\\\"enable_ensembling\\\":true,\\\"enable_stack_ensembling\\\":true,\\\"ensemble_iterations\\\":15,\\\"enable_tf\\\":false,\\\"enable_subsampling\\\":false,\\\"subsample_seed\\\":null,\\\"enable_nimbusml\\\":false,\\\"enable_streaming\\\":false,\\\"force_streaming\\\":false,\\\"track_child_runs\\\":true,\\\"allowed_private_models\\\":[],\\\"label_column_name\\\":\\\"target\\\",\\\"weight_column_name\\\":null,\\\"cv_split_column_names\\\":null,\\\"enable_local_managed\\\":false,\\\"_local_managed_run_id\\\":null,\\\"cost_mode\\\":1,\\\"lag_length\\\":0,\\\"metric_operation\\\":\\\"maximize\\\",\\\"preprocess\\\":true}\", \"DataPrepJsonString\": \"{\\\\\\\"training_data\\\\\\\": {\\\\\\\"datasetId\\\\\\\": \\\\\\\"0e51b174-bc8d-447b-8df0-7d9cc315e7be\\\\\\\"}, \\\\\\\"datasets\\\\\\\": 0}\", \"EnableSubsampling\": \"False\", \"runTemplate\": \"AutoML\", \"azureml.runsource\": \"automl\", \"display_task_type\": \"classification\", \"dependencies_versions\": \"{\\\"azureml-widgets\\\": \\\"1.32.0\\\", \\\"azureml-train\\\": \\\"1.32.0\\\", \\\"azureml-train-restclients-hyperdrive\\\": \\\"1.32.0\\\", \\\"azureml-train-core\\\": \\\"1.32.0\\\", \\\"azureml-train-automl\\\": \\\"1.32.0\\\", \\\"azureml-train-automl-runtime\\\": \\\"1.32.0\\\", \\\"azureml-train-automl-client\\\": \\\"1.32.0\\\", \\\"azureml-tensorboard\\\": \\\"1.32.0\\\", \\\"azureml-telemetry\\\": \\\"1.32.0\\\", \\\"azureml-sdk\\\": \\\"1.32.0\\\", \\\"azureml-samples\\\": \\\"0+unknown\\\", \\\"azureml-responsibleai\\\": \\\"1.32.0\\\", \\\"azureml-pipeline\\\": \\\"1.32.0\\\", \\\"azureml-pipeline-steps\\\": \\\"1.32.0\\\", \\\"azureml-pipeline-core\\\": \\\"1.32.0\\\", \\\"azureml-opendatasets\\\": \\\"1.32.0\\\", \\\"azureml-model-management-sdk\\\": \\\"1.0.1b6.post1\\\", \\\"azureml-mlflow\\\": \\\"1.32.0\\\", \\\"azureml-interpret\\\": \\\"1.32.0\\\", \\\"azureml-explain-model\\\": \\\"1.32.0\\\", \\\"azureml-defaults\\\": \\\"1.32.0\\\", \\\"azureml-dataset-runtime\\\": \\\"1.32.0\\\", \\\"azureml-dataprep\\\": \\\"2.18.0\\\", \\\"azureml-dataprep-rslex\\\": \\\"1.16.1\\\", \\\"azureml-dataprep-native\\\": \\\"36.0.0\\\", \\\"azureml-datadrift\\\": \\\"1.32.0\\\", \\\"azureml-core\\\": \\\"1.32.0\\\", \\\"azureml-contrib-services\\\": \\\"1.32.0\\\", \\\"azureml-contrib-server\\\": \\\"1.32.0\\\", \\\"azureml-contrib-reinforcementlearning\\\": \\\"1.32.0\\\", \\\"azureml-contrib-pipeline-steps\\\": \\\"1.32.0\\\", \\\"azureml-contrib-notebook\\\": \\\"1.32.0\\\", \\\"azureml-contrib-fairness\\\": \\\"1.32.0\\\", \\\"azureml-contrib-dataset\\\": \\\"1.32.0\\\", \\\"azureml-cli-common\\\": \\\"1.32.0\\\", \\\"azureml-automl-runtime\\\": \\\"1.32.0\\\", \\\"azureml-automl-dnn-nlp\\\": \\\"1.32.0\\\", \\\"azureml-automl-core\\\": \\\"1.32.0\\\", \\\"azureml-accel-models\\\": \\\"1.32.0\\\"}\", \"_aml_system_scenario_identification\": \"Remote.Parent\", \"ClientType\": \"SDK\", \"environment_cpu_name\": \"AzureML-AutoML\", \"environment_cpu_label\": \"prod\", \"environment_gpu_name\": \"AzureML-AutoML-GPU\", \"environment_gpu_label\": \"prod\", \"root_attribution\": \"automl\", \"attribution\": \"AutoML\", \"Orchestrator\": \"AutoML\", \"CancelUri\": \"https://eastus.api.azureml.ms/jasmine/v1.0/subscriptions/417646f6-643f-4fcd-96b8-77997bfdfac3/resourceGroups/kgovind-ml-wksp/providers/Microsoft.MachineLearningServices/workspaces/kgovindmlwk/experimentids/22b0680a-a3ff-492f-868a-0d535f1ba73e/cancel/AutoML_8f8525ee-e6a1-462e-a49a-e549b66fe06f\", \"ClientSdkVersion\": \"1.33.0\", \"snapshotId\": \"00000000-0000-0000-0000-000000000000\", \"SetupRunId\": \"AutoML_8f8525ee-e6a1-462e-a49a-e549b66fe06f_setup\", \"SetupRunContainerId\": \"dcid.AutoML_8f8525ee-e6a1-462e-a49a-e549b66fe06f_setup\", \"FeaturizationRunJsonPath\": \"featurizer_container.json\", \"FeaturizationRunId\": \"AutoML_8f8525ee-e6a1-462e-a49a-e549b66fe06f_featurize\", \"ProblemInfoJsonString\": \"{\\\"dataset_num_categorical\\\": 0, \\\"is_sparse\\\": true, \\\"subsampling\\\": false, \\\"has_extra_col\\\": true, \\\"dataset_classes\\\": 2, \\\"dataset_features\\\": 27, \\\"dataset_samples\\\": 303, \\\"single_frequency_class_detected\\\": false}\", \"ModelExplainRunId\": \"AutoML_8f8525ee-e6a1-462e-a49a-e549b66fe06f_ModelExplain\"}, \"tags\": {\"model_explain_run\": \"best_run\", \"_aml_system_azureml.automlComponent\": \"AutoML\", \"is_gpu\": \"True\", \"pipeline_id\": \"\", \"score\": \"\", \"predicted_cost\": \"\", \"fit_time\": \"\", \"training_percent\": \"\", \"iteration\": \"\", \"run_preprocessor\": \"\", \"run_algorithm\": \"\", \"automl_best_child_run_id\": \"AutoML_8f8525ee-e6a1-462e-a49a-e549b66fe06f_16\", \"model_explain_best_run_child_id\": \"AutoML_8f8525ee-e6a1-462e-a49a-e549b66fe06f_16\"}, \"end_time_utc\": \"2021-08-24T03:39:31.757813Z\", \"status\": \"Completed\", \"log_files\": {}, \"log_groups\": [], \"run_duration\": \"0:09:47\", \"run_number\": \"71\", \"run_queued_details\": {\"status\": \"Completed\", \"details\": null}}, \"child_runs\": [{\"run_id\": \"AutoML_8f8525ee-e6a1-462e-a49a-e549b66fe06f_0\", \"run_number\": 75, \"metric\": null, \"status\": \"Completed\", \"run_type\": \"azureml.scriptrun\", \"training_percent\": \"100\", \"start_time\": \"2021-08-24T03:34:04.068436Z\", \"end_time\": \"2021-08-24T03:37:45.429866Z\", \"created_time\": \"2021-08-24T03:33:15.511521Z\", \"created_time_dt\": \"2021-08-24T03:33:15.511521Z\", \"duration\": \"0:04:29\", \"iteration\": \"0\", \"goal\": \"accuracy_max\", \"run_name\": \"MaxAbsScaler, LightGBM\", \"run_properties\": \"copy=True\", \"primary_metric\": 0.79185792, \"best_metric\": 0.79185792}, {\"run_id\": \"AutoML_8f8525ee-e6a1-462e-a49a-e549b66fe06f_2\", \"run_number\": 76, \"metric\": null, \"status\": \"Completed\", \"run_type\": \"azureml.scriptrun\", \"training_percent\": \"100\", \"start_time\": \"2021-08-24T03:33:59.612873Z\", \"end_time\": \"2021-08-24T03:36:25.355604Z\", \"created_time\": \"2021-08-24T03:33:15.545534Z\", \"created_time_dt\": \"2021-08-24T03:33:15.545534Z\", \"duration\": \"0:03:09\", \"iteration\": \"2\", \"goal\": \"accuracy_max\", \"run_name\": \"MaxAbsScaler, ExtremeRandomTrees\", \"run_properties\": \"copy=True\", \"primary_metric\": 0.8315847, \"best_metric\": 0.8315847}, {\"run_id\": \"AutoML_8f8525ee-e6a1-462e-a49a-e549b66fe06f_3\", \"run_number\": 77, \"metric\": null, \"status\": \"Completed\", \"run_type\": \"azureml.scriptrun\", \"training_percent\": \"100\", \"start_time\": \"2021-08-24T03:33:58.697488Z\", \"end_time\": \"2021-08-24T03:36:23.845515Z\", \"created_time\": \"2021-08-24T03:33:15.556549Z\", \"created_time_dt\": \"2021-08-24T03:33:15.556549Z\", \"duration\": \"0:03:08\", \"iteration\": \"3\", \"goal\": \"accuracy_max\", \"run_name\": \"SparseNormalizer, XGBoostClassifier\", \"run_properties\": \"copy=True, norm='l2'\", \"primary_metric\": 0.7920765, \"best_metric\": 0.8315847}, {\"run_id\": \"AutoML_8f8525ee-e6a1-462e-a49a-e549b66fe06f_6\", \"run_number\": 78, \"metric\": null, \"status\": \"Completed\", \"run_type\": \"azureml.scriptrun\", \"training_percent\": \"100\", \"start_time\": \"2021-08-24T03:34:05.129479Z\", \"end_time\": \"2021-08-24T03:36:27.883745Z\", \"created_time\": \"2021-08-24T03:33:15.564289Z\", \"created_time_dt\": \"2021-08-24T03:33:15.564289Z\", \"duration\": \"0:03:12\", \"iteration\": \"6\", \"goal\": \"accuracy_max\", \"run_name\": \"StandardScalerWrapper, XGBoostClassifier\", \"run_properties\": \"\\n    copy=True,\\n    with_mean=False,\\n    with_std=False\\n\", \"primary_metric\": 0.79535519, \"best_metric\": 0.83486339}, {\"run_id\": \"AutoML_8f8525ee-e6a1-462e-a49a-e549b66fe06f_8\", \"run_number\": 79, \"metric\": null, \"status\": \"Completed\", \"run_type\": \"azureml.scriptrun\", \"training_percent\": \"100\", \"start_time\": \"2021-08-24T03:34:03.867692Z\", \"end_time\": \"2021-08-24T03:36:36.120509Z\", \"created_time\": \"2021-08-24T03:33:15.574481Z\", \"created_time_dt\": \"2021-08-24T03:33:15.574481Z\", \"duration\": \"0:03:20\", \"iteration\": \"8\", \"goal\": \"accuracy_max\", \"run_name\": \"StandardScalerWrapper, ExtremeRandomTrees\", \"run_properties\": \"\\n    copy=True,\\n    with_mean=False,\\n    with_std=False\\n\", \"primary_metric\": 0.83153005, \"best_metric\": 0.83808743}, {\"run_id\": \"AutoML_8f8525ee-e6a1-462e-a49a-e549b66fe06f_27\", \"run_number\": 80, \"metric\": null, \"status\": \"Completed\", \"run_type\": \"azureml.scriptrun\", \"training_percent\": \"100\", \"start_time\": \"2021-08-24T03:34:03.965824Z\", \"end_time\": \"2021-08-24T03:36:28.728816Z\", \"created_time\": \"2021-08-24T03:33:15.576634Z\", \"created_time_dt\": \"2021-08-24T03:33:15.576634Z\", \"duration\": \"0:03:13\", \"iteration\": \"27\", \"goal\": \"accuracy_max\", \"run_name\": \"StandardScalerWrapper, XGBoostClassifier\", \"run_properties\": \"\\n    copy=True,\\n    with_mean=False,\\n    with_std=False\\n\", \"primary_metric\": 0.8052459, \"best_metric\": 0.86125683}, {\"run_id\": \"AutoML_8f8525ee-e6a1-462e-a49a-e549b66fe06f_25\", \"run_number\": 81, \"metric\": null, \"status\": \"Completed\", \"run_type\": \"azureml.scriptrun\", \"training_percent\": \"100\", \"start_time\": \"2021-08-24T03:34:05.159076Z\", \"end_time\": \"2021-08-24T03:36:31.109271Z\", \"created_time\": \"2021-08-24T03:33:15.58796Z\", \"created_time_dt\": \"2021-08-24T03:33:15.58796Z\", \"duration\": \"0:03:15\", \"iteration\": \"25\", \"goal\": \"accuracy_max\", \"run_name\": \"SparseNormalizer, XGBoostClassifier\", \"run_properties\": \"copy=True, norm='l1'\", \"primary_metric\": 0.81830601, \"best_metric\": 0.86125683}, {\"run_id\": \"AutoML_8f8525ee-e6a1-462e-a49a-e549b66fe06f_12\", \"run_number\": 82, \"metric\": null, \"status\": \"Completed\", \"run_type\": \"azureml.scriptrun\", \"training_percent\": \"100\", \"start_time\": \"2021-08-24T03:34:03.99093Z\", \"end_time\": \"2021-08-24T03:36:35.260626Z\", \"created_time\": \"2021-08-24T03:33:15.592974Z\", \"created_time_dt\": \"2021-08-24T03:33:15.592974Z\", \"duration\": \"0:03:19\", \"iteration\": \"12\", \"goal\": \"accuracy_max\", \"run_name\": \"MaxAbsScaler, LogisticRegression\", \"run_properties\": \"copy=True\", \"primary_metric\": 0.83491803, \"best_metric\": 0.83808743}, {\"run_id\": \"AutoML_8f8525ee-e6a1-462e-a49a-e549b66fe06f_13\", \"run_number\": 83, \"metric\": null, \"status\": \"Completed\", \"run_type\": \"azureml.scriptrun\", \"training_percent\": \"100\", \"start_time\": \"2021-08-24T03:34:03.969606Z\", \"end_time\": \"2021-08-24T03:36:25.547393Z\", \"created_time\": \"2021-08-24T03:33:15.596098Z\", \"created_time_dt\": \"2021-08-24T03:33:15.596098Z\", \"duration\": \"0:03:09\", \"iteration\": \"13\", \"goal\": \"accuracy_max\", \"run_name\": \"MaxAbsScaler, SGD\", \"run_properties\": \"copy=True\", \"primary_metric\": 0.8347541, \"best_metric\": 0.83808743}, {\"run_id\": \"AutoML_8f8525ee-e6a1-462e-a49a-e549b66fe06f_9\", \"run_number\": 84, \"metric\": null, \"status\": \"Completed\", \"run_type\": \"azureml.scriptrun\", \"training_percent\": \"100\", \"start_time\": \"2021-08-24T03:34:02.306765Z\", \"end_time\": \"2021-08-24T03:36:28.732646Z\", \"created_time\": \"2021-08-24T03:33:15.597291Z\", \"created_time_dt\": \"2021-08-24T03:33:15.597291Z\", \"duration\": \"0:03:13\", \"iteration\": \"9\", \"goal\": \"accuracy_max\", \"run_name\": \"StandardScalerWrapper, XGBoostClassifier\", \"run_properties\": \"\\n    copy=True,\\n    with_mean=False,\\n    with_std=False\\n\", \"primary_metric\": 0.78879781, \"best_metric\": 0.83808743}, {\"run_id\": \"AutoML_8f8525ee-e6a1-462e-a49a-e549b66fe06f_18\", \"run_number\": 85, \"metric\": null, \"status\": \"Completed\", \"run_type\": \"azureml.scriptrun\", \"training_percent\": \"100\", \"start_time\": \"2021-08-24T03:34:04.981868Z\", \"end_time\": \"2021-08-24T03:36:32.596086Z\", \"created_time\": \"2021-08-24T03:33:15.61739Z\", \"created_time_dt\": \"2021-08-24T03:33:15.61739Z\", \"duration\": \"0:03:16\", \"iteration\": \"18\", \"goal\": \"accuracy_max\", \"run_name\": \"StandardScalerWrapper, XGBoostClassifier\", \"run_properties\": \"\\n    copy=True,\\n    with_mean=False,\\n    with_std=False\\n\", \"primary_metric\": 0.82819672, \"best_metric\": 0.86125683}, {\"run_id\": \"AutoML_8f8525ee-e6a1-462e-a49a-e549b66fe06f_19\", \"run_number\": 86, \"metric\": null, \"status\": \"Completed\", \"run_type\": \"azureml.scriptrun\", \"training_percent\": \"100\", \"start_time\": \"2021-08-24T03:33:58.8697Z\", \"end_time\": \"2021-08-24T03:36:27.71315Z\", \"created_time\": \"2021-08-24T03:33:15.624837Z\", \"created_time_dt\": \"2021-08-24T03:33:15.624837Z\", \"duration\": \"0:03:12\", \"iteration\": \"19\", \"goal\": \"accuracy_max\", \"run_name\": \"TruncatedSVDWrapper, RandomForest\", \"run_properties\": \"n_components=0.8015789473684211, random_state=None\", \"primary_metric\": 0.79196721, \"best_metric\": 0.86125683}, {\"run_id\": \"AutoML_8f8525ee-e6a1-462e-a49a-e549b66fe06f_21\", \"run_number\": 87, \"metric\": null, \"status\": \"Completed\", \"run_type\": \"azureml.scriptrun\", \"training_percent\": \"100\", \"start_time\": \"2021-08-24T03:34:04.025733Z\", \"end_time\": \"2021-08-24T03:36:37.656225Z\", \"created_time\": \"2021-08-24T03:33:15.629911Z\", \"created_time_dt\": \"2021-08-24T03:33:15.629911Z\", \"duration\": \"0:03:22\", \"iteration\": \"21\", \"goal\": \"accuracy_max\", \"run_name\": \"StandardScalerWrapper, XGBoostClassifier\", \"run_properties\": \"\\n    copy=True,\\n    with_mean=False,\\n    with_std=False\\n\", \"primary_metric\": 0.79857923, \"best_metric\": 0.86125683}, {\"run_id\": \"AutoML_8f8525ee-e6a1-462e-a49a-e549b66fe06f_22\", \"run_number\": 88, \"metric\": null, \"status\": \"Completed\", \"run_type\": \"azureml.scriptrun\", \"training_percent\": \"100\", \"start_time\": \"2021-08-24T03:34:04.088256Z\", \"end_time\": \"2021-08-24T03:36:36.110001Z\", \"created_time\": \"2021-08-24T03:33:15.636013Z\", \"created_time_dt\": \"2021-08-24T03:33:15.636013Z\", \"duration\": \"0:03:20\", \"iteration\": \"22\", \"goal\": \"accuracy_max\", \"run_name\": \"SparseNormalizer, XGBoostClassifier\", \"run_properties\": \"copy=True, norm='l1'\", \"primary_metric\": 0.82497268, \"best_metric\": 0.86125683}, {\"run_id\": \"AutoML_8f8525ee-e6a1-462e-a49a-e549b66fe06f_20\", \"run_number\": 89, \"metric\": null, \"status\": \"Completed\", \"run_type\": \"azureml.scriptrun\", \"training_percent\": \"100\", \"start_time\": \"2021-08-24T03:34:04.004473Z\", \"end_time\": \"2021-08-24T03:36:40.625318Z\", \"created_time\": \"2021-08-24T03:33:15.645912Z\", \"created_time_dt\": \"2021-08-24T03:33:15.645912Z\", \"duration\": \"0:03:24\", \"iteration\": \"20\", \"goal\": \"accuracy_max\", \"run_name\": \"TruncatedSVDWrapper, RandomForest\", \"run_properties\": \"n_components=0.7026315789473684, random_state=None\", \"primary_metric\": 0.79191257, \"best_metric\": 0.86125683}, {\"run_id\": \"AutoML_8f8525ee-e6a1-462e-a49a-e549b66fe06f_4\", \"run_number\": 90, \"metric\": null, \"status\": \"Completed\", \"run_type\": \"azureml.scriptrun\", \"training_percent\": \"100\", \"start_time\": \"2021-08-24T03:34:04.027925Z\", \"end_time\": \"2021-08-24T03:36:35.438429Z\", \"created_time\": \"2021-08-24T03:33:15.537613Z\", \"created_time_dt\": \"2021-08-24T03:33:15.537613Z\", \"duration\": \"0:03:19\", \"iteration\": \"4\", \"goal\": \"accuracy_max\", \"run_name\": \"MaxAbsScaler, LightGBM\", \"run_properties\": \"copy=True\", \"primary_metric\": 0.83486339, \"best_metric\": 0.83486339}, {\"run_id\": \"AutoML_8f8525ee-e6a1-462e-a49a-e549b66fe06f_7\", \"run_number\": 91, \"metric\": null, \"status\": \"Completed\", \"run_type\": \"azureml.scriptrun\", \"training_percent\": \"100\", \"start_time\": \"2021-08-24T03:33:58.766766Z\", \"end_time\": \"2021-08-24T03:36:28.578274Z\", \"created_time\": \"2021-08-24T03:33:15.558754Z\", \"created_time_dt\": \"2021-08-24T03:33:15.558754Z\", \"duration\": \"0:03:13\", \"iteration\": \"7\", \"goal\": \"accuracy_max\", \"run_name\": \"MaxAbsScaler, LogisticRegression\", \"run_properties\": \"copy=True\", \"primary_metric\": 0.83808743, \"best_metric\": 0.83808743}, {\"run_id\": \"AutoML_8f8525ee-e6a1-462e-a49a-e549b66fe06f_11\", \"run_number\": 92, \"metric\": null, \"status\": \"Completed\", \"run_type\": \"azureml.scriptrun\", \"training_percent\": \"100\", \"start_time\": \"2021-08-24T03:34:02.299322Z\", \"end_time\": \"2021-08-24T03:36:25.988942Z\", \"created_time\": \"2021-08-24T03:33:15.568195Z\", \"created_time_dt\": \"2021-08-24T03:33:15.568195Z\", \"duration\": \"0:03:10\", \"iteration\": \"11\", \"goal\": \"accuracy_max\", \"run_name\": \"StandardScalerWrapper, XGBoostClassifier\", \"run_properties\": \"\\n    copy=True,\\n    with_mean=False,\\n    with_std=False\\n\", \"primary_metric\": 0.81169399, \"best_metric\": 0.83808743}, {\"run_id\": \"AutoML_8f8525ee-e6a1-462e-a49a-e549b66fe06f_10\", \"run_number\": 93, \"metric\": null, \"status\": \"Completed\", \"run_type\": \"azureml.scriptrun\", \"training_percent\": \"100\", \"start_time\": \"2021-08-24T03:34:03.215851Z\", \"end_time\": \"2021-08-24T03:36:36.872464Z\", \"created_time\": \"2021-08-24T03:33:15.587163Z\", \"created_time_dt\": \"2021-08-24T03:33:15.587163Z\", \"duration\": \"0:03:21\", \"iteration\": \"10\", \"goal\": \"accuracy_max\", \"run_name\": \"SparseNormalizer, LightGBM\", \"run_properties\": \"copy=True, norm='l1'\", \"primary_metric\": 0.82513661, \"best_metric\": 0.83808743}, {\"run_id\": \"AutoML_8f8525ee-e6a1-462e-a49a-e549b66fe06f_15\", \"run_number\": 94, \"metric\": null, \"status\": \"Completed\", \"run_type\": \"azureml.scriptrun\", \"training_percent\": \"100\", \"start_time\": \"2021-08-24T03:34:03.591939Z\", \"end_time\": \"2021-08-24T03:36:32.840749Z\", \"created_time\": \"2021-08-24T03:33:15.604157Z\", \"created_time_dt\": \"2021-08-24T03:33:15.604157Z\", \"duration\": \"0:03:17\", \"iteration\": \"15\", \"goal\": \"accuracy_max\", \"run_name\": \"SparseNormalizer, RandomForest\", \"run_properties\": \"copy=True, norm='l2'\", \"primary_metric\": 0.81836066, \"best_metric\": 0.83808743}, {\"run_id\": \"AutoML_8f8525ee-e6a1-462e-a49a-e549b66fe06f_16\", \"run_number\": 95, \"metric\": null, \"status\": \"Completed\", \"run_type\": \"azureml.scriptrun\", \"training_percent\": \"100\", \"start_time\": \"2021-08-24T03:33:58.58699Z\", \"end_time\": \"2021-08-24T03:36:28.760401Z\", \"created_time\": \"2021-08-24T03:33:15.624914Z\", \"created_time_dt\": \"2021-08-24T03:33:15.624914Z\", \"duration\": \"0:03:13\", \"iteration\": \"16\", \"goal\": \"accuracy_max\", \"run_name\": \"StandardScalerWrapper, LogisticRegression\", \"run_properties\": \"\\n    copy=True,\\n    with_mean=False,\\n    with_std=False\\n\", \"primary_metric\": 0.86125683, \"best_metric\": 0.86125683}, {\"run_id\": \"AutoML_8f8525ee-e6a1-462e-a49a-e549b66fe06f_23\", \"run_number\": 96, \"metric\": null, \"status\": \"Completed\", \"run_type\": \"azureml.scriptrun\", \"training_percent\": \"100\", \"start_time\": \"2021-08-24T03:33:58.766374Z\", \"end_time\": \"2021-08-24T03:36:27.799438Z\", \"created_time\": \"2021-08-24T03:33:15.632043Z\", \"created_time_dt\": \"2021-08-24T03:33:15.632043Z\", \"duration\": \"0:03:12\", \"iteration\": \"23\", \"goal\": \"accuracy_max\", \"run_name\": \"StandardScalerWrapper, LogisticRegression\", \"run_properties\": \"\\n    copy=True,\\n    with_mean=False,\\n    with_std=True\\n\", \"primary_metric\": 0.8315847, \"best_metric\": 0.86125683}, {\"run_id\": \"AutoML_8f8525ee-e6a1-462e-a49a-e549b66fe06f_1\", \"run_number\": 97, \"metric\": null, \"status\": \"Completed\", \"run_type\": \"azureml.scriptrun\", \"training_percent\": \"100\", \"start_time\": \"2021-08-24T03:34:03.894435Z\", \"end_time\": \"2021-08-24T03:36:34.726382Z\", \"created_time\": \"2021-08-24T03:33:15.562775Z\", \"created_time_dt\": \"2021-08-24T03:33:15.562775Z\", \"duration\": \"0:03:19\", \"iteration\": \"1\", \"goal\": \"accuracy_max\", \"run_name\": \"MaxAbsScaler, XGBoostClassifier\", \"run_properties\": \"copy=True\", \"primary_metric\": 0.80174863, \"best_metric\": 0.80174863}, {\"run_id\": \"AutoML_8f8525ee-e6a1-462e-a49a-e549b66fe06f_5\", \"run_number\": 98, \"metric\": null, \"status\": \"Completed\", \"run_type\": \"azureml.scriptrun\", \"training_percent\": \"100\", \"start_time\": \"2021-08-24T03:33:59.445589Z\", \"end_time\": \"2021-08-24T03:36:28.472638Z\", \"created_time\": \"2021-08-24T03:33:15.569405Z\", \"created_time_dt\": \"2021-08-24T03:33:15.569405Z\", \"duration\": \"0:03:12\", \"iteration\": \"5\", \"goal\": \"accuracy_max\", \"run_name\": \"MaxAbsScaler, LightGBM\", \"run_properties\": \"copy=True\", \"primary_metric\": 0.81519126, \"best_metric\": 0.83486339}, {\"run_id\": \"AutoML_8f8525ee-e6a1-462e-a49a-e549b66fe06f_14\", \"run_number\": 99, \"metric\": null, \"status\": \"Completed\", \"run_type\": \"azureml.scriptrun\", \"training_percent\": \"100\", \"start_time\": \"2021-08-24T03:34:03.242773Z\", \"end_time\": \"2021-08-24T03:36:30.470606Z\", \"created_time\": \"2021-08-24T03:33:15.592747Z\", \"created_time_dt\": \"2021-08-24T03:33:15.592747Z\", \"duration\": \"0:03:14\", \"iteration\": \"14\", \"goal\": \"accuracy_max\", \"run_name\": \"StandardScalerWrapper, XGBoostClassifier\", \"run_properties\": \"\\n    copy=True,\\n    with_mean=False,\\n    with_std=False\\n\", \"primary_metric\": 0.79185792, \"best_metric\": 0.83808743}, {\"run_id\": \"AutoML_8f8525ee-e6a1-462e-a49a-e549b66fe06f_24\", \"run_number\": 100, \"metric\": null, \"status\": \"Completed\", \"run_type\": \"azureml.scriptrun\", \"training_percent\": \"100\", \"start_time\": \"2021-08-24T03:34:02.380907Z\", \"end_time\": \"2021-08-24T03:36:33.762494Z\", \"created_time\": \"2021-08-24T03:33:15.603565Z\", \"created_time_dt\": \"2021-08-24T03:33:15.603565Z\", \"duration\": \"0:03:18\", \"iteration\": \"24\", \"goal\": \"accuracy_max\", \"run_name\": \"StandardScalerWrapper, RandomForest\", \"run_properties\": \"\\n    copy=True,\\n    with_mean=False,\\n    with_std=False\\n\", \"primary_metric\": 0.82502732, \"best_metric\": 0.86125683}, {\"run_id\": \"AutoML_8f8525ee-e6a1-462e-a49a-e549b66fe06f_26\", \"run_number\": 101, \"metric\": null, \"status\": \"Completed\", \"run_type\": \"azureml.scriptrun\", \"training_percent\": \"100\", \"start_time\": \"2021-08-24T03:34:03.295568Z\", \"end_time\": \"2021-08-24T03:36:30.34686Z\", \"created_time\": \"2021-08-24T03:33:15.62602Z\", \"created_time_dt\": \"2021-08-24T03:33:15.62602Z\", \"duration\": \"0:03:14\", \"iteration\": \"26\", \"goal\": \"accuracy_max\", \"run_name\": \"SparseNormalizer, LightGBM\", \"run_properties\": \"copy=True, norm='l2'\", \"primary_metric\": 0.82508197, \"best_metric\": 0.86125683}, {\"run_id\": \"AutoML_8f8525ee-e6a1-462e-a49a-e549b66fe06f_17\", \"run_number\": 102, \"metric\": null, \"status\": \"Completed\", \"run_type\": \"azureml.scriptrun\", \"training_percent\": \"100\", \"start_time\": \"2021-08-24T03:34:02.399909Z\", \"end_time\": \"2021-08-24T03:36:30.055901Z\", \"created_time\": \"2021-08-24T03:33:15.622815Z\", \"created_time_dt\": \"2021-08-24T03:33:15.622815Z\", \"duration\": \"0:03:14\", \"iteration\": \"17\", \"goal\": \"accuracy_max\", \"run_name\": \"StandardScalerWrapper, RandomForest\", \"run_properties\": \"\\n    copy=True,\\n    with_mean=False,\\n    with_std=False\\n\", \"primary_metric\": 0.82497268, \"best_metric\": 0.86125683}, {\"run_id\": \"AutoML_8f8525ee-e6a1-462e-a49a-e549b66fe06f_28\", \"run_number\": 103, \"metric\": null, \"status\": \"Completed\", \"run_type\": \"azureml.scriptrun\", \"training_percent\": \"100\", \"start_time\": \"2021-08-24T03:38:29.027509Z\", \"end_time\": \"2021-08-24T03:39:30.143056Z\", \"created_time\": \"2021-08-24T03:37:46.198002Z\", \"created_time_dt\": \"2021-08-24T03:37:46.198002Z\", \"duration\": \"0:01:43\", \"iteration\": \"28\", \"goal\": \"accuracy_max\", \"run_name\": \"VotingEnsemble\", \"run_properties\": \"\\n    estimators=[('16', Pipeline(\\n        memory=None,\\n        steps=[('standardscalerwrapper', StandardScalerWrapper(\\n            copy=True,\\n            with_mean=False,\\n            with_std=False\\n        \", \"primary_metric\": 0.85797814, \"best_metric\": 0.86125683}, {\"run_id\": \"AutoML_8f8525ee-e6a1-462e-a49a-e549b66fe06f_29\", \"run_number\": 104, \"metric\": null, \"status\": \"Completed\", \"run_type\": \"azureml.scriptrun\", \"training_percent\": \"100\", \"start_time\": \"2021-08-24T03:38:28.98684Z\", \"end_time\": \"2021-08-24T03:39:28.484666Z\", \"created_time\": \"2021-08-24T03:37:46.213544Z\", \"created_time_dt\": \"2021-08-24T03:37:46.213544Z\", \"duration\": \"0:01:42\", \"iteration\": \"29\", \"goal\": \"accuracy_max\", \"run_name\": \"StackEnsemble\", \"run_properties\": \"\\n    base_learners=[('16', Pipeline(\\n        memory=None,\\n        steps=[('standardscalerwrapper', StandardScalerWrapper(\\n            copy=True,\\n            with_mean=False,\\n            with_std=False\\n        \", \"primary_metric\": 0.83491803, \"best_metric\": 0.86125683}], \"children_metrics\": {\"categories\": [0], \"series\": {\"AUC_micro\": [{\"categories\": [\"0\", \"1\", \"2\", \"3\", \"4\", \"5\", \"6\", \"7\", \"8\", \"9\", \"10\", \"11\", \"12\", \"13\", \"14\", \"15\", \"16\", \"17\", \"18\", \"19\", \"20\", \"21\", \"22\", \"23\", \"24\", \"25\", \"26\", \"27\", \"28\", \"29\"], \"mode\": \"markers\", \"name\": \"AUC_micro\", \"stepped\": false, \"type\": \"scatter\", \"data\": [0.8719732001552748, 0.8763386186509002, 0.9039633013825435, 0.8729637044999852, 0.8998151333273612, 0.8739117620711279, 0.8651705783988772, 0.9166588879930723, 0.9128666577085014, 0.8860806981396877, 0.8937135029412643, 0.8877668040252024, 0.9063747648481592, 0.9172627728507867, 0.868522873182239, 0.9013083699125085, 0.9170821015855953, 0.9100970020006571, 0.8972121592164592, 0.8741665173639104, 0.8785549583445309, 0.8878106243841261, 0.8869041028397385, 0.900986771775807, 0.8954709606139328, 0.8959831735793843, 0.9015296813879186, 0.8840310251127235, 0.9149714383827525, 0.9093232852578458]}, {\"categories\": [\"0\", \"1\", \"2\", \"3\", \"4\", \"5\", \"6\", \"7\", \"8\", \"9\", \"10\", \"11\", \"12\", \"13\", \"14\", \"15\", \"16\", \"17\", \"18\", \"19\", \"20\", \"21\", \"22\", \"23\", \"24\", \"25\", \"26\", \"27\", \"28\", \"29\"], \"mode\": \"lines\", \"name\": \"AUC_micro_max\", \"stepped\": true, \"type\": \"scatter\", \"data\": [0.8719732001552748, 0.8763386186509002, 0.9039633013825435, 0.9039633013825435, 0.9039633013825435, 0.9039633013825435, 0.9039633013825435, 0.9166588879930723, 0.9166588879930723, 0.9166588879930723, 0.9166588879930723, 0.9166588879930723, 0.9166588879930723, 0.9172627728507867, 0.9172627728507867, 0.9172627728507867, 0.9172627728507867, 0.9172627728507867, 0.9172627728507867, 0.9172627728507867, 0.9172627728507867, 0.9172627728507867, 0.9172627728507867, 0.9172627728507867, 0.9172627728507867, 0.9172627728507867, 0.9172627728507867, 0.9172627728507867, 0.9172627728507867, 0.9172627728507867]}], \"average_precision_score_micro\": [{\"categories\": [\"0\", \"1\", \"2\", \"3\", \"4\", \"5\", \"6\", \"7\", \"8\", \"9\", \"10\", \"11\", \"12\", \"13\", \"14\", \"15\", \"16\", \"17\", \"18\", \"19\", \"20\", \"21\", \"22\", \"23\", \"24\", \"25\", \"26\", \"27\", \"28\", \"29\"], \"mode\": \"markers\", \"name\": \"average_precision_score_micro\", \"stepped\": false, \"type\": \"scatter\", \"data\": [0.8719584102731132, 0.8788930526133129, 0.9018264857480693, 0.8657527139457389, 0.9012202969303585, 0.8574719372075238, 0.8619985691808296, 0.9158467165442726, 0.9131782790446443, 0.8866495854174967, 0.8923316561195161, 0.8880779867252094, 0.9069193866551671, 0.912436884123464, 0.869703047667279, 0.9054268892928551, 0.9159221469978233, 0.9104246135503008, 0.9005176503708723, 0.8805616155497826, 0.8818061906520038, 0.8926714046924369, 0.8837911060915401, 0.9015384559553112, 0.8986820287514596, 0.8983369676795459, 0.9020658446538621, 0.8880406685994211, 0.9132428765568397, 0.9029803754940107]}, {\"categories\": [\"0\", \"1\", \"2\", \"3\", \"4\", \"5\", \"6\", \"7\", \"8\", \"9\", \"10\", \"11\", \"12\", \"13\", \"14\", \"15\", \"16\", \"17\", \"18\", \"19\", \"20\", \"21\", \"22\", \"23\", \"24\", \"25\", \"26\", \"27\", \"28\", \"29\"], \"mode\": \"lines\", \"name\": \"average_precision_score_micro_max\", \"stepped\": true, \"type\": \"scatter\", \"data\": [0.8719584102731132, 0.8788930526133129, 0.9018264857480693, 0.9018264857480693, 0.9018264857480693, 0.9018264857480693, 0.9018264857480693, 0.9158467165442726, 0.9158467165442726, 0.9158467165442726, 0.9158467165442726, 0.9158467165442726, 0.9158467165442726, 0.9158467165442726, 0.9158467165442726, 0.9158467165442726, 0.9159221469978233, 0.9159221469978233, 0.9159221469978233, 0.9159221469978233, 0.9159221469978233, 0.9159221469978233, 0.9159221469978233, 0.9159221469978233, 0.9159221469978233, 0.9159221469978233, 0.9159221469978233, 0.9159221469978233, 0.9159221469978233, 0.9159221469978233]}], \"average_precision_score_weighted\": [{\"categories\": [\"0\", \"1\", \"2\", \"3\", \"4\", \"5\", \"6\", \"7\", \"8\", \"9\", \"10\", \"11\", \"12\", \"13\", \"14\", \"15\", \"16\", \"17\", \"18\", \"19\", \"20\", \"21\", \"22\", \"23\", \"24\", \"25\", \"26\", \"27\", \"28\", \"29\"], \"mode\": \"markers\", \"name\": \"average_precision_score_weighted\", \"stepped\": false, \"type\": \"scatter\", \"data\": [0.8704173167921596, 0.884323457841308, 0.9105397025560737, 0.8758804044850852, 0.9033636133979999, 0.8736773892215494, 0.8703951645967095, 0.9204831171393261, 0.9220185861289953, 0.8932438206639723, 0.896907001236082, 0.8930645569745946, 0.9107958717168765, 0.9159589609676676, 0.8774618222065026, 0.9116332932822615, 0.9211516275433974, 0.9158232365409397, 0.9060299476291365, 0.8818849496779283, 0.8848628404522426, 0.8985278857360536, 0.8865340502605218, 0.9063453467069245, 0.9019898851138735, 0.9061173136731604, 0.9030933297123965, 0.8923760526896267, 0.9194100955731859, 0.9167852562864836]}, {\"categories\": [\"0\", \"1\", \"2\", \"3\", \"4\", \"5\", \"6\", \"7\", \"8\", \"9\", \"10\", \"11\", \"12\", \"13\", \"14\", \"15\", \"16\", \"17\", \"18\", \"19\", \"20\", \"21\", \"22\", \"23\", \"24\", \"25\", \"26\", \"27\", \"28\", \"29\"], \"mode\": \"lines\", \"name\": \"average_precision_score_weighted_max\", \"stepped\": true, \"type\": \"scatter\", \"data\": [0.8704173167921596, 0.884323457841308, 0.9105397025560737, 0.9105397025560737, 0.9105397025560737, 0.9105397025560737, 0.9105397025560737, 0.9204831171393261, 0.9220185861289953, 0.9220185861289953, 0.9220185861289953, 0.9220185861289953, 0.9220185861289953, 0.9220185861289953, 0.9220185861289953, 0.9220185861289953, 0.9220185861289953, 0.9220185861289953, 0.9220185861289953, 0.9220185861289953, 0.9220185861289953, 0.9220185861289953, 0.9220185861289953, 0.9220185861289953, 0.9220185861289953, 0.9220185861289953, 0.9220185861289953, 0.9220185861289953, 0.9220185861289953, 0.9220185861289953]}], \"balanced_accuracy\": [{\"categories\": [\"0\", \"1\", \"2\", \"3\", \"4\", \"5\", \"6\", \"7\", \"8\", \"9\", \"10\", \"11\", \"12\", \"13\", \"14\", \"15\", \"16\", \"17\", \"18\", \"19\", \"20\", \"21\", \"22\", \"23\", \"24\", \"25\", \"26\", \"27\", \"28\", \"29\"], \"mode\": \"markers\", \"name\": \"balanced_accuracy\", \"stepped\": false, \"type\": \"scatter\", \"data\": [0.7863316036015464, 0.7989964916280642, 0.8282726335261911, 0.7890574100531592, 0.8299634937412448, 0.808047621608187, 0.7894522610299264, 0.8330988211024248, 0.8257956336984309, 0.7824205401240685, 0.8168776262487238, 0.8063935822684097, 0.8279994176147435, 0.8307278723602061, 0.7914218128020638, 0.8122958762402694, 0.8568099849693149, 0.8171526889053654, 0.82355726857042, 0.7905516728659682, 0.7916491422764242, 0.7932028635360953, 0.8205884937412449, 0.8246660842814102, 0.8207966169413474, 0.813905103005737, 0.8170828377346615, 0.7999629210073594, 0.853584178517702, 0.8279269784523212]}, {\"categories\": [\"0\", \"1\", \"2\", \"3\", \"4\", \"5\", \"6\", \"7\", \"8\", \"9\", \"10\", \"11\", \"12\", \"13\", \"14\", \"15\", \"16\", \"17\", \"18\", \"19\", \"20\", \"21\", \"22\", \"23\", \"24\", \"25\", \"26\", \"27\", \"28\", \"29\"], \"mode\": \"lines\", \"name\": \"balanced_accuracy_max\", \"stepped\": true, \"type\": \"scatter\", \"data\": [0.7863316036015464, 0.7989964916280642, 0.8282726335261911, 0.8282726335261911, 0.8299634937412448, 0.8299634937412448, 0.8299634937412448, 0.8330988211024248, 0.8330988211024248, 0.8330988211024248, 0.8330988211024248, 0.8330988211024248, 0.8330988211024248, 0.8330988211024248, 0.8330988211024248, 0.8330988211024248, 0.8568099849693149, 0.8568099849693149, 0.8568099849693149, 0.8568099849693149, 0.8568099849693149, 0.8568099849693149, 0.8568099849693149, 0.8568099849693149, 0.8568099849693149, 0.8568099849693149, 0.8568099849693149, 0.8568099849693149, 0.8568099849693149, 0.8568099849693149]}], \"recall_score_macro\": [{\"categories\": [\"0\", \"1\", \"2\", \"3\", \"4\", \"5\", \"6\", \"7\", \"8\", \"9\", \"10\", \"11\", \"12\", \"13\", \"14\", \"15\", \"16\", \"17\", \"18\", \"19\", \"20\", \"21\", \"22\", \"23\", \"24\", \"25\", \"26\", \"27\", \"28\", \"29\"], \"mode\": \"markers\", \"name\": \"recall_score_macro\", \"stepped\": false, \"type\": \"scatter\", \"data\": [0.7863316036015464, 0.7989964916280642, 0.8282726335261911, 0.7890574100531592, 0.8299634937412448, 0.808047621608187, 0.7894522610299264, 0.8330988211024248, 0.8257956336984309, 0.7824205401240685, 0.8168776262487238, 0.8063935822684097, 0.8279994176147435, 0.8307278723602061, 0.7914218128020638, 0.8122958762402694, 0.8568099849693149, 0.8171526889053654, 0.82355726857042, 0.7905516728659682, 0.7916491422764242, 0.7932028635360953, 0.8205884937412449, 0.8246660842814102, 0.8207966169413474, 0.813905103005737, 0.8170828377346615, 0.7999629210073594, 0.853584178517702, 0.8279269784523212]}, {\"categories\": [\"0\", \"1\", \"2\", \"3\", \"4\", \"5\", \"6\", \"7\", \"8\", \"9\", \"10\", \"11\", \"12\", \"13\", \"14\", \"15\", \"16\", \"17\", \"18\", \"19\", \"20\", \"21\", \"22\", \"23\", \"24\", \"25\", \"26\", \"27\", \"28\", \"29\"], \"mode\": \"lines\", \"name\": \"recall_score_macro_max\", \"stepped\": true, \"type\": \"scatter\", \"data\": [0.7863316036015464, 0.7989964916280642, 0.8282726335261911, 0.8282726335261911, 0.8299634937412448, 0.8299634937412448, 0.8299634937412448, 0.8330988211024248, 0.8330988211024248, 0.8330988211024248, 0.8330988211024248, 0.8330988211024248, 0.8330988211024248, 0.8330988211024248, 0.8330988211024248, 0.8330988211024248, 0.8568099849693149, 0.8568099849693149, 0.8568099849693149, 0.8568099849693149, 0.8568099849693149, 0.8568099849693149, 0.8568099849693149, 0.8568099849693149, 0.8568099849693149, 0.8568099849693149, 0.8568099849693149, 0.8568099849693149, 0.8568099849693149, 0.8568099849693149]}], \"accuracy\": [{\"categories\": [\"0\", \"1\", \"2\", \"3\", \"4\", \"5\", \"6\", \"7\", \"8\", \"9\", \"10\", \"11\", \"12\", \"13\", \"14\", \"15\", \"16\", \"17\", \"18\", \"19\", \"20\", \"21\", \"22\", \"23\", \"24\", \"25\", \"26\", \"27\", \"28\", \"29\"], \"mode\": \"markers\", \"name\": \"accuracy\", \"stepped\": false, \"type\": \"scatter\", \"data\": [0.7918579234972677, 0.8017486338797815, 0.831584699453552, 0.7920765027322403, 0.8348633879781421, 0.8151912568306011, 0.7953551912568306, 0.838087431693989, 0.8315300546448088, 0.7887978142076502, 0.8251366120218577, 0.8116939890710382, 0.8349180327868853, 0.8347540983606556, 0.7918579234972677, 0.8183606557377049, 0.8612568306010928, 0.8249726775956283, 0.8281967213114754, 0.7919672131147542, 0.7919125683060109, 0.7985792349726776, 0.8249726775956283, 0.831584699453552, 0.8250273224043715, 0.8183060109289617, 0.8250819672131147, 0.8052459016393442, 0.8579781420765027, 0.8349180327868853]}, {\"categories\": [\"0\", \"1\", \"2\", \"3\", \"4\", \"5\", \"6\", \"7\", \"8\", \"9\", \"10\", \"11\", \"12\", \"13\", \"14\", \"15\", \"16\", \"17\", \"18\", \"19\", \"20\", \"21\", \"22\", \"23\", \"24\", \"25\", \"26\", \"27\", \"28\", \"29\"], \"mode\": \"lines\", \"name\": \"accuracy_max\", \"stepped\": true, \"type\": \"scatter\", \"data\": [0.7918579234972677, 0.8017486338797815, 0.831584699453552, 0.831584699453552, 0.8348633879781421, 0.8348633879781421, 0.8348633879781421, 0.838087431693989, 0.838087431693989, 0.838087431693989, 0.838087431693989, 0.838087431693989, 0.838087431693989, 0.838087431693989, 0.838087431693989, 0.838087431693989, 0.8612568306010928, 0.8612568306010928, 0.8612568306010928, 0.8612568306010928, 0.8612568306010928, 0.8612568306010928, 0.8612568306010928, 0.8612568306010928, 0.8612568306010928, 0.8612568306010928, 0.8612568306010928, 0.8612568306010928, 0.8612568306010928, 0.8612568306010928]}], \"average_precision_score_macro\": [{\"categories\": [\"0\", \"1\", \"2\", \"3\", \"4\", \"5\", \"6\", \"7\", \"8\", \"9\", \"10\", \"11\", \"12\", \"13\", \"14\", \"15\", \"16\", \"17\", \"18\", \"19\", \"20\", \"21\", \"22\", \"23\", \"24\", \"25\", \"26\", \"27\", \"28\", \"29\"], \"mode\": \"markers\", \"name\": \"average_precision_score_macro\", \"stepped\": false, \"type\": \"scatter\", \"data\": [0.867367599523225, 0.882158343108177, 0.9080615321352102, 0.8738009950916311, 0.9006476591610039, 0.8728463369059568, 0.8667877200466494, 0.9181667801093661, 0.9201049160515652, 0.8897992888568542, 0.8946870385313218, 0.8904623860882456, 0.9083451854529377, 0.9136574261142509, 0.8748830416726898, 0.9092857830333188, 0.9189964768148705, 0.9136615177399612, 0.9032376631888772, 0.8782911826603594, 0.8816110276660831, 0.8958417276960068, 0.8844780796573911, 0.9039081628115418, 0.899151463592551, 0.903432578759117, 0.9009099284911397, 0.8897391780621593, 0.91726317392946, 0.9148904001921562]}, {\"categories\": [\"0\", \"1\", \"2\", \"3\", \"4\", \"5\", \"6\", \"7\", \"8\", \"9\", \"10\", \"11\", \"12\", \"13\", \"14\", \"15\", \"16\", \"17\", \"18\", \"19\", \"20\", \"21\", \"22\", \"23\", \"24\", \"25\", \"26\", \"27\", \"28\", \"29\"], \"mode\": \"lines\", \"name\": \"average_precision_score_macro_max\", \"stepped\": true, \"type\": \"scatter\", \"data\": [0.867367599523225, 0.882158343108177, 0.9080615321352102, 0.9080615321352102, 0.9080615321352102, 0.9080615321352102, 0.9080615321352102, 0.9181667801093661, 0.9201049160515652, 0.9201049160515652, 0.9201049160515652, 0.9201049160515652, 0.9201049160515652, 0.9201049160515652, 0.9201049160515652, 0.9201049160515652, 0.9201049160515652, 0.9201049160515652, 0.9201049160515652, 0.9201049160515652, 0.9201049160515652, 0.9201049160515652, 0.9201049160515652, 0.9201049160515652, 0.9201049160515652, 0.9201049160515652, 0.9201049160515652, 0.9201049160515652, 0.9201049160515652, 0.9201049160515652]}], \"matthews_correlation\": [{\"categories\": [\"0\", \"1\", \"2\", \"3\", \"4\", \"5\", \"6\", \"7\", \"8\", \"9\", \"10\", \"11\", \"12\", \"13\", \"14\", \"15\", \"16\", \"17\", \"18\", \"19\", \"20\", \"21\", \"22\", \"23\", \"24\", \"25\", \"26\", \"27\", \"28\", \"29\"], \"mode\": \"markers\", \"name\": \"matthews_correlation\", \"stepped\": false, \"type\": \"scatter\", \"data\": [0.5770457387679374, 0.5993706608970333, 0.6602052012368882, 0.5802302002429632, 0.6658948915825459, 0.6241975669738091, 0.5854699393366518, 0.6745984197442119, 0.6600880867269916, 0.5708209156614787, 0.6419754441513155, 0.6170543021769719, 0.6704731650007252, 0.6659059740408229, 0.5824076918045266, 0.63361232519356, 0.7238307271908383, 0.648468293501112, 0.6526658486816922, 0.5837067233739416, 0.584743311087533, 0.5900924932552497, 0.6461343605928461, 0.6632963478107663, 0.6495745611882195, 0.6332232476546757, 0.6446724115808957, 0.6026056861704683, 0.7172132784887421, 0.6667864886975168]}, {\"categories\": [\"0\", \"1\", \"2\", \"3\", \"4\", \"5\", \"6\", \"7\", \"8\", \"9\", \"10\", \"11\", \"12\", \"13\", \"14\", \"15\", \"16\", \"17\", \"18\", \"19\", \"20\", \"21\", \"22\", \"23\", \"24\", \"25\", \"26\", \"27\", \"28\", \"29\"], \"mode\": \"lines\", \"name\": \"matthews_correlation_max\", \"stepped\": true, \"type\": \"scatter\", \"data\": [0.5770457387679374, 0.5993706608970333, 0.6602052012368882, 0.6602052012368882, 0.6658948915825459, 0.6658948915825459, 0.6658948915825459, 0.6745984197442119, 0.6745984197442119, 0.6745984197442119, 0.6745984197442119, 0.6745984197442119, 0.6745984197442119, 0.6745984197442119, 0.6745984197442119, 0.6745984197442119, 0.7238307271908383, 0.7238307271908383, 0.7238307271908383, 0.7238307271908383, 0.7238307271908383, 0.7238307271908383, 0.7238307271908383, 0.7238307271908383, 0.7238307271908383, 0.7238307271908383, 0.7238307271908383, 0.7238307271908383, 0.7238307271908383, 0.7238307271908383]}], \"f1_score_macro\": [{\"categories\": [\"0\", \"1\", \"2\", \"3\", \"4\", \"5\", \"6\", \"7\", \"8\", \"9\", \"10\", \"11\", \"12\", \"13\", \"14\", \"15\", \"16\", \"17\", \"18\", \"19\", \"20\", \"21\", \"22\", \"23\", \"24\", \"25\", \"26\", \"27\", \"28\", \"29\"], \"mode\": \"markers\", \"name\": \"f1_score_macro\", \"stepped\": false, \"type\": \"scatter\", \"data\": [0.7867944664973036, 0.7977819361120174, 0.8275715705689521, 0.7880034269086783, 0.8303092740334735, 0.8097606743111907, 0.7907359538998238, 0.8331230099215139, 0.8262510561630227, 0.782475387529567, 0.8185516156188308, 0.8067719568567027, 0.8277938615288892, 0.830810880131342, 0.7889406924826591, 0.8133168881363784, 0.8570653994198116, 0.8184786494515727, 0.8237848502559937, 0.7887487447015579, 0.7890613173833703, 0.7934617515969995, 0.8205027131221317, 0.8245304947786802, 0.82092998597327, 0.8134647911576224, 0.8190927769239904, 0.800254923662752, 0.8538043581707988, 0.8279472302958091]}, {\"categories\": [\"0\", \"1\", \"2\", \"3\", \"4\", \"5\", \"6\", \"7\", \"8\", \"9\", \"10\", \"11\", \"12\", \"13\", \"14\", \"15\", \"16\", \"17\", \"18\", \"19\", \"20\", \"21\", \"22\", \"23\", \"24\", \"25\", \"26\", \"27\", \"28\", \"29\"], \"mode\": \"lines\", \"name\": \"f1_score_macro_max\", \"stepped\": true, \"type\": \"scatter\", \"data\": [0.7867944664973036, 0.7977819361120174, 0.8275715705689521, 0.8275715705689521, 0.8303092740334735, 0.8303092740334735, 0.8303092740334735, 0.8331230099215139, 0.8331230099215139, 0.8331230099215139, 0.8331230099215139, 0.8331230099215139, 0.8331230099215139, 0.8331230099215139, 0.8331230099215139, 0.8331230099215139, 0.8570653994198116, 0.8570653994198116, 0.8570653994198116, 0.8570653994198116, 0.8570653994198116, 0.8570653994198116, 0.8570653994198116, 0.8570653994198116, 0.8570653994198116, 0.8570653994198116, 0.8570653994198116, 0.8570653994198116, 0.8570653994198116, 0.8570653994198116]}], \"precision_score_weighted\": [{\"categories\": [\"0\", \"1\", \"2\", \"3\", \"4\", \"5\", \"6\", \"7\", \"8\", \"9\", \"10\", \"11\", \"12\", \"13\", \"14\", \"15\", \"16\", \"17\", \"18\", \"19\", \"20\", \"21\", \"22\", \"23\", \"24\", \"25\", \"26\", \"27\", \"28\", \"29\"], \"mode\": \"markers\", \"name\": \"precision_score_weighted\", \"stepped\": false, \"type\": \"scatter\", \"data\": [0.7938841181319484, 0.8052470692634627, 0.8353755108317988, 0.7954616466036076, 0.8384772448330026, 0.8171456268979362, 0.7974889436597694, 0.8440141505590123, 0.8362923657049037, 0.7919223179873868, 0.8267269449793503, 0.813595147943369, 0.8444370791589735, 0.837808999144929, 0.7969003885458803, 0.8227971845945101, 0.8686162388201168, 0.832260329272892, 0.8318697663195607, 0.797603172101123, 0.7981864122667732, 0.800297685671367, 0.8285054541401831, 0.840590163547352, 0.8308716167915066, 0.8228379499587415, 0.8283442500278408, 0.8061569264038141, 0.8652668889049104, 0.8412732588870648]}, {\"categories\": [\"0\", \"1\", \"2\", \"3\", \"4\", \"5\", \"6\", \"7\", \"8\", \"9\", \"10\", \"11\", \"12\", \"13\", \"14\", \"15\", \"16\", \"17\", \"18\", \"19\", \"20\", \"21\", \"22\", \"23\", \"24\", \"25\", \"26\", \"27\", \"28\", \"29\"], \"mode\": \"lines\", \"name\": \"precision_score_weighted_max\", \"stepped\": true, \"type\": \"scatter\", \"data\": [0.7938841181319484, 0.8052470692634627, 0.8353755108317988, 0.8353755108317988, 0.8384772448330026, 0.8384772448330026, 0.8384772448330026, 0.8440141505590123, 0.8440141505590123, 0.8440141505590123, 0.8440141505590123, 0.8440141505590123, 0.8444370791589735, 0.8444370791589735, 0.8444370791589735, 0.8444370791589735, 0.8686162388201168, 0.8686162388201168, 0.8686162388201168, 0.8686162388201168, 0.8686162388201168, 0.8686162388201168, 0.8686162388201168, 0.8686162388201168, 0.8686162388201168, 0.8686162388201168, 0.8686162388201168, 0.8686162388201168, 0.8686162388201168, 0.8686162388201168]}], \"norm_macro_recall\": [{\"categories\": [\"0\", \"1\", \"2\", \"3\", \"4\", \"5\", \"6\", \"7\", \"8\", \"9\", \"10\", \"11\", \"12\", \"13\", \"14\", \"15\", \"16\", \"17\", \"18\", \"19\", \"20\", \"21\", \"22\", \"23\", \"24\", \"25\", \"26\", \"27\", \"28\", \"29\"], \"mode\": \"markers\", \"name\": \"norm_macro_recall\", \"stepped\": false, \"type\": \"scatter\", \"data\": [0.5726632072030926, 0.5979929832561284, 0.6565452670523821, 0.5781148201063184, 0.6599269874824897, 0.616095243216374, 0.5789045220598529, 0.6661976422048496, 0.651591267396862, 0.564841080248137, 0.6337552524974477, 0.6127871645368197, 0.6559988352294869, 0.6614557447204121, 0.5828436256041274, 0.6245917524805388, 0.7136199699386301, 0.6343053778107308, 0.6471145371408402, 0.5811033457319363, 0.5832982845528484, 0.5864057270721903, 0.6411769874824897, 0.6493321685628202, 0.6415932338826948, 0.627810206011474, 0.6341656754693232, 0.5999258420147191, 0.7071683570354043, 0.6558539569046424]}, {\"categories\": [\"0\", \"1\", \"2\", \"3\", \"4\", \"5\", \"6\", \"7\", \"8\", \"9\", \"10\", \"11\", \"12\", \"13\", \"14\", \"15\", \"16\", \"17\", \"18\", \"19\", \"20\", \"21\", \"22\", \"23\", \"24\", \"25\", \"26\", \"27\", \"28\", \"29\"], \"mode\": \"lines\", \"name\": \"norm_macro_recall_max\", \"stepped\": true, \"type\": \"scatter\", \"data\": [0.5726632072030926, 0.5979929832561284, 0.6565452670523821, 0.6565452670523821, 0.6599269874824897, 0.6599269874824897, 0.6599269874824897, 0.6661976422048496, 0.6661976422048496, 0.6661976422048496, 0.6661976422048496, 0.6661976422048496, 0.6661976422048496, 0.6661976422048496, 0.6661976422048496, 0.6661976422048496, 0.7136199699386301, 0.7136199699386301, 0.7136199699386301, 0.7136199699386301, 0.7136199699386301, 0.7136199699386301, 0.7136199699386301, 0.7136199699386301, 0.7136199699386301, 0.7136199699386301, 0.7136199699386301, 0.7136199699386301, 0.7136199699386301, 0.7136199699386301]}], \"precision_score_micro\": [{\"categories\": [\"0\", \"1\", \"2\", \"3\", \"4\", \"5\", \"6\", \"7\", \"8\", \"9\", \"10\", \"11\", \"12\", \"13\", \"14\", \"15\", \"16\", \"17\", \"18\", \"19\", \"20\", \"21\", \"22\", \"23\", \"24\", \"25\", \"26\", \"27\", \"28\", \"29\"], \"mode\": \"markers\", \"name\": \"precision_score_micro\", \"stepped\": false, \"type\": \"scatter\", \"data\": [0.7918579234972677, 0.8017486338797815, 0.831584699453552, 0.7920765027322403, 0.8348633879781421, 0.8151912568306011, 0.7953551912568306, 0.838087431693989, 0.8315300546448088, 0.7887978142076502, 0.8251366120218577, 0.8116939890710382, 0.8349180327868853, 0.8347540983606556, 0.7918579234972677, 0.8183606557377049, 0.8612568306010928, 0.8249726775956283, 0.8281967213114754, 0.7919672131147542, 0.7919125683060109, 0.7985792349726776, 0.8249726775956283, 0.831584699453552, 0.8250273224043715, 0.8183060109289617, 0.8250819672131147, 0.8052459016393442, 0.8579781420765027, 0.8349180327868853]}, {\"categories\": [\"0\", \"1\", \"2\", \"3\", \"4\", \"5\", \"6\", \"7\", \"8\", \"9\", \"10\", \"11\", \"12\", \"13\", \"14\", \"15\", \"16\", \"17\", \"18\", \"19\", \"20\", \"21\", \"22\", \"23\", \"24\", \"25\", \"26\", \"27\", \"28\", \"29\"], \"mode\": \"lines\", \"name\": \"precision_score_micro_max\", \"stepped\": true, \"type\": \"scatter\", \"data\": [0.7918579234972677, 0.8017486338797815, 0.831584699453552, 0.831584699453552, 0.8348633879781421, 0.8348633879781421, 0.8348633879781421, 0.838087431693989, 0.838087431693989, 0.838087431693989, 0.838087431693989, 0.838087431693989, 0.838087431693989, 0.838087431693989, 0.838087431693989, 0.838087431693989, 0.8612568306010928, 0.8612568306010928, 0.8612568306010928, 0.8612568306010928, 0.8612568306010928, 0.8612568306010928, 0.8612568306010928, 0.8612568306010928, 0.8612568306010928, 0.8612568306010928, 0.8612568306010928, 0.8612568306010928, 0.8612568306010928, 0.8612568306010928]}], \"precision_score_macro\": [{\"categories\": [\"0\", \"1\", \"2\", \"3\", \"4\", \"5\", \"6\", \"7\", \"8\", \"9\", \"10\", \"11\", \"12\", \"13\", \"14\", \"15\", \"16\", \"17\", \"18\", \"19\", \"20\", \"21\", \"22\", \"23\", \"24\", \"25\", \"26\", \"27\", \"28\", \"29\"], \"mode\": \"markers\", \"name\": \"precision_score_macro\", \"stepped\": false, \"type\": \"scatter\", \"data\": [0.7907492017786135, 0.8003964374932118, 0.8320136357080402, 0.791217940568886, 0.8360225668640304, 0.8162388845501756, 0.7961009682171806, 0.8417547680197652, 0.83454789979941, 0.7885292403417049, 0.8253130291348375, 0.8107920686049205, 0.8433130482530699, 0.8353248356253158, 0.7910225468975469, 0.8217252849007085, 0.8673262516020619, 0.8319645651798162, 0.8292164423161094, 0.7931967601364152, 0.7931249150624846, 0.7969561472655087, 0.825642346509672, 0.8394661326414482, 0.8290472405491762, 0.8194508223053871, 0.8278387877512363, 0.802706965159885, 0.863934520048484, 0.839394612607349]}, {\"categories\": [\"0\", \"1\", \"2\", \"3\", \"4\", \"5\", \"6\", \"7\", \"8\", \"9\", \"10\", \"11\", \"12\", \"13\", \"14\", \"15\", \"16\", \"17\", \"18\", \"19\", \"20\", \"21\", \"22\", \"23\", \"24\", \"25\", \"26\", \"27\", \"28\", \"29\"], \"mode\": \"lines\", \"name\": \"precision_score_macro_max\", \"stepped\": true, \"type\": \"scatter\", \"data\": [0.7907492017786135, 0.8003964374932118, 0.8320136357080402, 0.8320136357080402, 0.8360225668640304, 0.8360225668640304, 0.8360225668640304, 0.8417547680197652, 0.8417547680197652, 0.8417547680197652, 0.8417547680197652, 0.8417547680197652, 0.8433130482530699, 0.8433130482530699, 0.8433130482530699, 0.8433130482530699, 0.8673262516020619, 0.8673262516020619, 0.8673262516020619, 0.8673262516020619, 0.8673262516020619, 0.8673262516020619, 0.8673262516020619, 0.8673262516020619, 0.8673262516020619, 0.8673262516020619, 0.8673262516020619, 0.8673262516020619, 0.8673262516020619, 0.8673262516020619]}], \"f1_score_micro\": [{\"categories\": [\"0\", \"1\", \"2\", \"3\", \"4\", \"5\", \"6\", \"7\", \"8\", \"9\", \"10\", \"11\", \"12\", \"13\", \"14\", \"15\", \"16\", \"17\", \"18\", \"19\", \"20\", \"21\", \"22\", \"23\", \"24\", \"25\", \"26\", \"27\", \"28\", \"29\"], \"mode\": \"markers\", \"name\": \"f1_score_micro\", \"stepped\": false, \"type\": \"scatter\", \"data\": [0.7918579234972677, 0.8017486338797815, 0.831584699453552, 0.7920765027322404, 0.8348633879781421, 0.8151912568306011, 0.7953551912568306, 0.8380874316939891, 0.8315300546448088, 0.7887978142076502, 0.8251366120218577, 0.8116939890710384, 0.8349180327868853, 0.8347540983606556, 0.7918579234972678, 0.818360655737705, 0.8612568306010928, 0.8249726775956283, 0.8281967213114754, 0.7919672131147542, 0.791912568306011, 0.7985792349726776, 0.8249726775956283, 0.831584699453552, 0.8250273224043715, 0.8183060109289617, 0.8250819672131147, 0.8052459016393442, 0.8579781420765027, 0.8349180327868853]}, {\"categories\": [\"0\", \"1\", \"2\", \"3\", \"4\", \"5\", \"6\", \"7\", \"8\", \"9\", \"10\", \"11\", \"12\", \"13\", \"14\", \"15\", \"16\", \"17\", \"18\", \"19\", \"20\", \"21\", \"22\", \"23\", \"24\", \"25\", \"26\", \"27\", \"28\", \"29\"], \"mode\": \"lines\", \"name\": \"f1_score_micro_max\", \"stepped\": true, \"type\": \"scatter\", \"data\": [0.7918579234972677, 0.8017486338797815, 0.831584699453552, 0.831584699453552, 0.8348633879781421, 0.8348633879781421, 0.8348633879781421, 0.8380874316939891, 0.8380874316939891, 0.8380874316939891, 0.8380874316939891, 0.8380874316939891, 0.8380874316939891, 0.8380874316939891, 0.8380874316939891, 0.8380874316939891, 0.8612568306010928, 0.8612568306010928, 0.8612568306010928, 0.8612568306010928, 0.8612568306010928, 0.8612568306010928, 0.8612568306010928, 0.8612568306010928, 0.8612568306010928, 0.8612568306010928, 0.8612568306010928, 0.8612568306010928, 0.8612568306010928, 0.8612568306010928]}], \"recall_score_weighted\": [{\"categories\": [\"0\", \"1\", \"2\", \"3\", \"4\", \"5\", \"6\", \"7\", \"8\", \"9\", \"10\", \"11\", \"12\", \"13\", \"14\", \"15\", \"16\", \"17\", \"18\", \"19\", \"20\", \"21\", \"22\", \"23\", \"24\", \"25\", \"26\", \"27\", \"28\", \"29\"], \"mode\": \"markers\", \"name\": \"recall_score_weighted\", \"stepped\": false, \"type\": \"scatter\", \"data\": [0.7918579234972677, 0.8017486338797815, 0.831584699453552, 0.7920765027322403, 0.8348633879781421, 0.8151912568306011, 0.7953551912568306, 0.838087431693989, 0.8315300546448088, 0.7887978142076502, 0.8251366120218577, 0.8116939890710382, 0.8349180327868853, 0.8347540983606556, 0.7918579234972677, 0.8183606557377049, 0.8612568306010928, 0.8249726775956283, 0.8281967213114754, 0.7919672131147542, 0.7919125683060109, 0.7985792349726776, 0.8249726775956283, 0.831584699453552, 0.8250273224043715, 0.8183060109289617, 0.8250819672131147, 0.8052459016393442, 0.8579781420765027, 0.8349180327868853]}, {\"categories\": [\"0\", \"1\", \"2\", \"3\", \"4\", \"5\", \"6\", \"7\", \"8\", \"9\", \"10\", \"11\", \"12\", \"13\", \"14\", \"15\", \"16\", \"17\", \"18\", \"19\", \"20\", \"21\", \"22\", \"23\", \"24\", \"25\", \"26\", \"27\", \"28\", \"29\"], \"mode\": \"lines\", \"name\": \"recall_score_weighted_max\", \"stepped\": true, \"type\": \"scatter\", \"data\": [0.7918579234972677, 0.8017486338797815, 0.831584699453552, 0.831584699453552, 0.8348633879781421, 0.8348633879781421, 0.8348633879781421, 0.838087431693989, 0.838087431693989, 0.838087431693989, 0.838087431693989, 0.838087431693989, 0.838087431693989, 0.838087431693989, 0.838087431693989, 0.838087431693989, 0.8612568306010928, 0.8612568306010928, 0.8612568306010928, 0.8612568306010928, 0.8612568306010928, 0.8612568306010928, 0.8612568306010928, 0.8612568306010928, 0.8612568306010928, 0.8612568306010928, 0.8612568306010928, 0.8612568306010928, 0.8612568306010928, 0.8612568306010928]}], \"log_loss\": [{\"categories\": [\"0\", \"1\", \"2\", \"3\", \"4\", \"5\", \"6\", \"7\", \"8\", \"9\", \"10\", \"11\", \"12\", \"13\", \"14\", \"15\", \"16\", \"17\", \"18\", \"19\", \"20\", \"21\", \"22\", \"23\", \"24\", \"25\", \"26\", \"27\", \"28\", \"29\"], \"mode\": \"markers\", \"name\": \"log_loss\", \"stepped\": false, \"type\": \"scatter\", \"data\": [0.5552767279575885, 0.6169998461453978, 0.43475427663569033, 0.6584681427174648, 0.42038500061688266, 0.5254570402631806, 0.46419667574167106, 0.37284426275946175, 0.47507186836212706, 0.42425871184003194, 0.4254599272273386, 0.425933058093302, 0.42119552565107254, 0.7652062601023577, 0.4514748396444883, 0.40910274736180224, 0.38150002179286735, 0.40720188799371615, 0.41542143905507833, 0.47986545961873084, 0.443187286203084, 0.44748407526377854, 0.4324547091316397, 0.4390838010507213, 0.42315978867152876, 0.5262897667766652, 0.4055211660822705, 0.5008799663105614, 0.3715473675365804, 0.4238440437991449]}, {\"categories\": [\"0\", \"1\", \"2\", \"3\", \"4\", \"5\", \"6\", \"7\", \"8\", \"9\", \"10\", \"11\", \"12\", \"13\", \"14\", \"15\", \"16\", \"17\", \"18\", \"19\", \"20\", \"21\", \"22\", \"23\", \"24\", \"25\", \"26\", \"27\", \"28\", \"29\"], \"mode\": \"lines\", \"name\": \"log_loss_min\", \"stepped\": true, \"type\": \"scatter\", \"data\": [0.5552767279575885, 0.5552767279575885, 0.43475427663569033, 0.43475427663569033, 0.42038500061688266, 0.42038500061688266, 0.42038500061688266, 0.37284426275946175, 0.37284426275946175, 0.37284426275946175, 0.37284426275946175, 0.37284426275946175, 0.37284426275946175, 0.37284426275946175, 0.37284426275946175, 0.37284426275946175, 0.37284426275946175, 0.37284426275946175, 0.37284426275946175, 0.37284426275946175, 0.37284426275946175, 0.37284426275946175, 0.37284426275946175, 0.37284426275946175, 0.37284426275946175, 0.37284426275946175, 0.37284426275946175, 0.37284426275946175, 0.3715473675365804, 0.3715473675365804]}], \"AUC_weighted\": [{\"categories\": [\"0\", \"1\", \"2\", \"3\", \"4\", \"5\", \"6\", \"7\", \"8\", \"9\", \"10\", \"11\", \"12\", \"13\", \"14\", \"15\", \"16\", \"17\", \"18\", \"19\", \"20\", \"21\", \"22\", \"23\", \"24\", \"25\", \"26\", \"27\", \"28\", \"29\"], \"mode\": \"markers\", \"name\": \"AUC_weighted\", \"stepped\": false, \"type\": \"scatter\", \"data\": [0.865868201261969, 0.8760722150849549, 0.9101415462533105, 0.8725483169644864, 0.8981706636414188, 0.8743845521323339, 0.866066079685519, 0.9179777980906063, 0.9185954993297273, 0.8855851291782761, 0.8913907973755867, 0.8875935627323376, 0.905943772674662, 0.9196823756122585, 0.8695061942813863, 0.9042761276771267, 0.9197539720458309, 0.9108571338269744, 0.8976141297166116, 0.8739641827683459, 0.878422845330104, 0.8899017709352133, 0.8842141224864163, 0.901555675923458, 0.8945207529330169, 0.8987482096165922, 0.8987592108384324, 0.8833108729288035, 0.9167478040266793, 0.9151662306913485]}, {\"categories\": [\"0\", \"1\", \"2\", \"3\", \"4\", \"5\", \"6\", \"7\", \"8\", \"9\", \"10\", \"11\", \"12\", \"13\", \"14\", \"15\", \"16\", \"17\", \"18\", \"19\", \"20\", \"21\", \"22\", \"23\", \"24\", \"25\", \"26\", \"27\", \"28\", \"29\"], \"mode\": \"lines\", \"name\": \"AUC_weighted_max\", \"stepped\": true, \"type\": \"scatter\", \"data\": [0.865868201261969, 0.8760722150849549, 0.9101415462533105, 0.9101415462533105, 0.9101415462533105, 0.9101415462533105, 0.9101415462533105, 0.9179777980906063, 0.9185954993297273, 0.9185954993297273, 0.9185954993297273, 0.9185954993297273, 0.9185954993297273, 0.9196823756122585, 0.9196823756122585, 0.9196823756122585, 0.9197539720458309, 0.9197539720458309, 0.9197539720458309, 0.9197539720458309, 0.9197539720458309, 0.9197539720458309, 0.9197539720458309, 0.9197539720458309, 0.9197539720458309, 0.9197539720458309, 0.9197539720458309, 0.9197539720458309, 0.9197539720458309, 0.9197539720458309]}], \"recall_score_micro\": [{\"categories\": [\"0\", \"1\", \"2\", \"3\", \"4\", \"5\", \"6\", \"7\", \"8\", \"9\", \"10\", \"11\", \"12\", \"13\", \"14\", \"15\", \"16\", \"17\", \"18\", \"19\", \"20\", \"21\", \"22\", \"23\", \"24\", \"25\", \"26\", \"27\", \"28\", \"29\"], \"mode\": \"markers\", \"name\": \"recall_score_micro\", \"stepped\": false, \"type\": \"scatter\", \"data\": [0.7918579234972677, 0.8017486338797815, 0.831584699453552, 0.7920765027322403, 0.8348633879781421, 0.8151912568306011, 0.7953551912568306, 0.838087431693989, 0.8315300546448088, 0.7887978142076502, 0.8251366120218577, 0.8116939890710382, 0.8349180327868853, 0.8347540983606556, 0.7918579234972677, 0.8183606557377049, 0.8612568306010928, 0.8249726775956283, 0.8281967213114754, 0.7919672131147542, 0.7919125683060109, 0.7985792349726776, 0.8249726775956283, 0.831584699453552, 0.8250273224043715, 0.8183060109289617, 0.8250819672131147, 0.8052459016393442, 0.8579781420765027, 0.8349180327868853]}, {\"categories\": [\"0\", \"1\", \"2\", \"3\", \"4\", \"5\", \"6\", \"7\", \"8\", \"9\", \"10\", \"11\", \"12\", \"13\", \"14\", \"15\", \"16\", \"17\", \"18\", \"19\", \"20\", \"21\", \"22\", \"23\", \"24\", \"25\", \"26\", \"27\", \"28\", \"29\"], \"mode\": \"lines\", \"name\": \"recall_score_micro_max\", \"stepped\": true, \"type\": \"scatter\", \"data\": [0.7918579234972677, 0.8017486338797815, 0.831584699453552, 0.831584699453552, 0.8348633879781421, 0.8348633879781421, 0.8348633879781421, 0.838087431693989, 0.838087431693989, 0.838087431693989, 0.838087431693989, 0.838087431693989, 0.838087431693989, 0.838087431693989, 0.838087431693989, 0.838087431693989, 0.8612568306010928, 0.8612568306010928, 0.8612568306010928, 0.8612568306010928, 0.8612568306010928, 0.8612568306010928, 0.8612568306010928, 0.8612568306010928, 0.8612568306010928, 0.8612568306010928, 0.8612568306010928, 0.8612568306010928, 0.8612568306010928, 0.8612568306010928]}], \"weighted_accuracy\": [{\"categories\": [\"0\", \"1\", \"2\", \"3\", \"4\", \"5\", \"6\", \"7\", \"8\", \"9\", \"10\", \"11\", \"12\", \"13\", \"14\", \"15\", \"16\", \"17\", \"18\", \"19\", \"20\", \"21\", \"22\", \"23\", \"24\", \"25\", \"26\", \"27\", \"28\", \"29\"], \"mode\": \"markers\", \"name\": \"weighted_accuracy\", \"stepped\": false, \"type\": \"scatter\", \"data\": [0.7968507434885812, 0.8041645391772512, 0.834445298158011, 0.7946731124776958, 0.8392382880151293, 0.821695698324872, 0.8007089974346642, 0.8424421896314283, 0.8365799129619663, 0.7944944083654925, 0.8325641423068078, 0.8163739120505074, 0.8409314824314358, 0.8382448995560466, 0.7922642680903085, 0.8236596893838559, 0.8651377440344461, 0.831925362078055, 0.8323354176130737, 0.7930949520340128, 0.7919258762287114, 0.8033728523141661, 0.828834121594566, 0.8375981490981024, 0.8286743926194486, 0.8221378866645626, 0.8322976819357898, 0.8099461101790268, 0.8618062018528233, 0.8410416532163196]}, {\"categories\": [\"0\", \"1\", \"2\", \"3\", \"4\", \"5\", \"6\", \"7\", \"8\", \"9\", \"10\", \"11\", \"12\", \"13\", \"14\", \"15\", \"16\", \"17\", \"18\", \"19\", \"20\", \"21\", \"22\", \"23\", \"24\", \"25\", \"26\", \"27\", \"28\", \"29\"], \"mode\": \"lines\", \"name\": \"weighted_accuracy_max\", \"stepped\": true, \"type\": \"scatter\", \"data\": [0.7968507434885812, 0.8041645391772512, 0.834445298158011, 0.834445298158011, 0.8392382880151293, 0.8392382880151293, 0.8392382880151293, 0.8424421896314283, 0.8424421896314283, 0.8424421896314283, 0.8424421896314283, 0.8424421896314283, 0.8424421896314283, 0.8424421896314283, 0.8424421896314283, 0.8424421896314283, 0.8651377440344461, 0.8651377440344461, 0.8651377440344461, 0.8651377440344461, 0.8651377440344461, 0.8651377440344461, 0.8651377440344461, 0.8651377440344461, 0.8651377440344461, 0.8651377440344461, 0.8651377440344461, 0.8651377440344461, 0.8651377440344461, 0.8651377440344461]}], \"AUC_macro\": [{\"categories\": [\"0\", \"1\", \"2\", \"3\", \"4\", \"5\", \"6\", \"7\", \"8\", \"9\", \"10\", \"11\", \"12\", \"13\", \"14\", \"15\", \"16\", \"17\", \"18\", \"19\", \"20\", \"21\", \"22\", \"23\", \"24\", \"25\", \"26\", \"27\", \"28\", \"29\"], \"mode\": \"markers\", \"name\": \"AUC_macro\", \"stepped\": false, \"type\": \"scatter\", \"data\": [0.865868201261969, 0.8760722150849549, 0.9101415462533105, 0.8725483169644864, 0.8981706636414188, 0.8743845521323339, 0.866066079685519, 0.9179777980906063, 0.9185954993297273, 0.8855851291782761, 0.8913907973755866, 0.8875935627323374, 0.905943772674662, 0.9196823756122587, 0.8695061942813863, 0.9042761276771267, 0.9197539720458309, 0.9108571338269744, 0.8976141297166116, 0.8739641827683459, 0.878422845330104, 0.8899017709352132, 0.8842141224864163, 0.901555675923458, 0.8945207529330169, 0.898748209616592, 0.8987592108384324, 0.8833108729288035, 0.9167478040266793, 0.9151662306913485]}, {\"categories\": [\"0\", \"1\", \"2\", \"3\", \"4\", \"5\", \"6\", \"7\", \"8\", \"9\", \"10\", \"11\", \"12\", \"13\", \"14\", \"15\", \"16\", \"17\", \"18\", \"19\", \"20\", \"21\", \"22\", \"23\", \"24\", \"25\", \"26\", \"27\", \"28\", \"29\"], \"mode\": \"lines\", \"name\": \"AUC_macro_max\", \"stepped\": true, \"type\": \"scatter\", \"data\": [0.865868201261969, 0.8760722150849549, 0.9101415462533105, 0.9101415462533105, 0.9101415462533105, 0.9101415462533105, 0.9101415462533105, 0.9179777980906063, 0.9185954993297273, 0.9185954993297273, 0.9185954993297273, 0.9185954993297273, 0.9185954993297273, 0.9196823756122587, 0.9196823756122587, 0.9196823756122587, 0.9197539720458309, 0.9197539720458309, 0.9197539720458309, 0.9197539720458309, 0.9197539720458309, 0.9197539720458309, 0.9197539720458309, 0.9197539720458309, 0.9197539720458309, 0.9197539720458309, 0.9197539720458309, 0.9197539720458309, 0.9197539720458309, 0.9197539720458309]}], \"f1_score_weighted\": [{\"categories\": [\"0\", \"1\", \"2\", \"3\", \"4\", \"5\", \"6\", \"7\", \"8\", \"9\", \"10\", \"11\", \"12\", \"13\", \"14\", \"15\", \"16\", \"17\", \"18\", \"19\", \"20\", \"21\", \"22\", \"23\", \"24\", \"25\", \"26\", \"27\", \"28\", \"29\"], \"mode\": \"markers\", \"name\": \"f1_score_weighted\", \"stepped\": false, \"type\": \"scatter\", \"data\": [0.7911533076732317, 0.8016166951108292, 0.8309993009524165, 0.7916795209154197, 0.8340639714472109, 0.8138541697222997, 0.7944508858274021, 0.8369773999271052, 0.8302072662562316, 0.787486332688417, 0.8235717527359689, 0.8109546195625663, 0.8324469278172394, 0.8342126533052376, 0.7921446861647602, 0.817214882437141, 0.8601915886409642, 0.8230205367820862, 0.8275255171541414, 0.7917183944103703, 0.7917780583801395, 0.7978898984116881, 0.8241998163737266, 0.8291835610670306, 0.8241959424406045, 0.8174984362269868, 0.8235453651499955, 0.8046902361305538, 0.8569252492256945, 0.8328215602575971]}, {\"categories\": [\"0\", \"1\", \"2\", \"3\", \"4\", \"5\", \"6\", \"7\", \"8\", \"9\", \"10\", \"11\", \"12\", \"13\", \"14\", \"15\", \"16\", \"17\", \"18\", \"19\", \"20\", \"21\", \"22\", \"23\", \"24\", \"25\", \"26\", \"27\", \"28\", \"29\"], \"mode\": \"lines\", \"name\": \"f1_score_weighted_max\", \"stepped\": true, \"type\": \"scatter\", \"data\": [0.7911533076732317, 0.8016166951108292, 0.8309993009524165, 0.8309993009524165, 0.8340639714472109, 0.8340639714472109, 0.8340639714472109, 0.8369773999271052, 0.8369773999271052, 0.8369773999271052, 0.8369773999271052, 0.8369773999271052, 0.8369773999271052, 0.8369773999271052, 0.8369773999271052, 0.8369773999271052, 0.8601915886409642, 0.8601915886409642, 0.8601915886409642, 0.8601915886409642, 0.8601915886409642, 0.8601915886409642, 0.8601915886409642, 0.8601915886409642, 0.8601915886409642, 0.8601915886409642, 0.8601915886409642, 0.8601915886409642, 0.8601915886409642, 0.8601915886409642]}]}, \"metricName\": null, \"primaryMetricName\": \"accuracy\", \"showLegend\": false}, \"run_metrics\": [{\"name\": \"experiment_status\", \"run_id\": \"AutoML_8f8525ee-e6a1-462e-a49a-e549b66fe06f\", \"categories\": [0, 1, 2, 3, 4, 5, 6, 7, 8, 9, 10, 11, 12, 13], \"series\": [{\"data\": [\"DatasetEvaluation\", \"FeaturesGeneration\", \"DatasetFeaturization\", \"DatasetFeaturizationCompleted\", \"DatasetCrossValidationSplit\", \"ModelSelection\", \"BestRunExplainModel\", \"ModelExplanationDataSetSetup\", \"PickSurrogateModel\", \"EngineeredFeatureExplanations\", \"EngineeredFeatureExplanations\", \"RawFeaturesExplanations\", \"RawFeaturesExplanations\", \"BestRunExplainModel\"]}]}, {\"name\": \"experiment_status_description\", \"run_id\": \"AutoML_8f8525ee-e6a1-462e-a49a-e549b66fe06f\", \"categories\": [0, 1, 2, 3, 4, 5, 6, 7, 8, 9, 10, 11, 12, 13], \"series\": [{\"data\": [\"Gathering dataset statistics.\", \"Generating features for the dataset.\", \"Beginning to fit featurizers and featurize the dataset.\", \"Completed fit featurizers and featurizing the dataset.\", \"Generating individually featurized CV splits.\", \"Beginning model selection.\", \"Best run model explanations started\", \"Model explanations data setup completed\", \"Choosing LightGBM as the surrogate model for explanations\", \"Computation of engineered features started\", \"Computation of engineered features completed\", \"Computation of raw features started\", \"Computation of raw features completed\", \"Best run model explanations completed\"]}]}, {\"name\": \"average_precision_score_micro\", \"run_id\": \"AutoML_8f8525ee-e6a1-462e-a49a-e549b66fe06f\", \"categories\": [0], \"series\": [{\"data\": [0.9159221469978233]}]}, {\"name\": \"f1_score_micro\", \"run_id\": \"AutoML_8f8525ee-e6a1-462e-a49a-e549b66fe06f\", \"categories\": [0], \"series\": [{\"data\": [0.8612568306010928]}]}, {\"name\": \"matthews_correlation\", \"run_id\": \"AutoML_8f8525ee-e6a1-462e-a49a-e549b66fe06f\", \"categories\": [0], \"series\": [{\"data\": [0.7238307271908383]}]}, {\"name\": \"recall_score_macro\", \"run_id\": \"AutoML_8f8525ee-e6a1-462e-a49a-e549b66fe06f\", \"categories\": [0], \"series\": [{\"data\": [0.8568099849693149]}]}, {\"name\": \"precision_score_macro\", \"run_id\": \"AutoML_8f8525ee-e6a1-462e-a49a-e549b66fe06f\", \"categories\": [0], \"series\": [{\"data\": [0.8673262516020619]}]}, {\"name\": \"log_loss\", \"run_id\": \"AutoML_8f8525ee-e6a1-462e-a49a-e549b66fe06f\", \"categories\": [0], \"series\": [{\"data\": [0.38150002179286735]}]}, {\"name\": \"recall_score_weighted\", \"run_id\": \"AutoML_8f8525ee-e6a1-462e-a49a-e549b66fe06f\", \"categories\": [0], \"series\": [{\"data\": [0.8612568306010928]}]}, {\"name\": \"f1_score_weighted\", \"run_id\": \"AutoML_8f8525ee-e6a1-462e-a49a-e549b66fe06f\", \"categories\": [0], \"series\": [{\"data\": [0.8601915886409642]}]}, {\"name\": \"accuracy\", \"run_id\": \"AutoML_8f8525ee-e6a1-462e-a49a-e549b66fe06f\", \"categories\": [0], \"series\": [{\"data\": [0.8612568306010928]}]}, {\"name\": \"AUC_weighted\", \"run_id\": \"AutoML_8f8525ee-e6a1-462e-a49a-e549b66fe06f\", \"categories\": [0], \"series\": [{\"data\": [0.9197539720458309]}]}, {\"name\": \"norm_macro_recall\", \"run_id\": \"AutoML_8f8525ee-e6a1-462e-a49a-e549b66fe06f\", \"categories\": [0], \"series\": [{\"data\": [0.7136199699386301]}]}, {\"name\": \"weighted_accuracy\", \"run_id\": \"AutoML_8f8525ee-e6a1-462e-a49a-e549b66fe06f\", \"categories\": [0], \"series\": [{\"data\": [0.8651377440344461]}]}, {\"name\": \"average_precision_score_macro\", \"run_id\": \"AutoML_8f8525ee-e6a1-462e-a49a-e549b66fe06f\", \"categories\": [0], \"series\": [{\"data\": [0.9189964768148705]}]}, {\"name\": \"f1_score_macro\", \"run_id\": \"AutoML_8f8525ee-e6a1-462e-a49a-e549b66fe06f\", \"categories\": [0], \"series\": [{\"data\": [0.8570653994198116]}]}, {\"name\": \"balanced_accuracy\", \"run_id\": \"AutoML_8f8525ee-e6a1-462e-a49a-e549b66fe06f\", \"categories\": [0], \"series\": [{\"data\": [0.8568099849693149]}]}, {\"name\": \"precision_score_micro\", \"run_id\": \"AutoML_8f8525ee-e6a1-462e-a49a-e549b66fe06f\", \"categories\": [0], \"series\": [{\"data\": [0.8612568306010928]}]}, {\"name\": \"recall_score_micro\", \"run_id\": \"AutoML_8f8525ee-e6a1-462e-a49a-e549b66fe06f\", \"categories\": [0], \"series\": [{\"data\": [0.8612568306010928]}]}, {\"name\": \"average_precision_score_weighted\", \"run_id\": \"AutoML_8f8525ee-e6a1-462e-a49a-e549b66fe06f\", \"categories\": [0], \"series\": [{\"data\": [0.9211516275433974]}]}, {\"name\": \"precision_score_weighted\", \"run_id\": \"AutoML_8f8525ee-e6a1-462e-a49a-e549b66fe06f\", \"categories\": [0], \"series\": [{\"data\": [0.8686162388201168]}]}, {\"name\": \"AUC_micro\", \"run_id\": \"AutoML_8f8525ee-e6a1-462e-a49a-e549b66fe06f\", \"categories\": [0], \"series\": [{\"data\": [0.9170821015855953]}]}, {\"name\": \"AUC_macro\", \"run_id\": \"AutoML_8f8525ee-e6a1-462e-a49a-e549b66fe06f\", \"categories\": [0], \"series\": [{\"data\": [0.9197539720458309]}]}], \"run_logs\": \"\\nRun is completed.\", \"graph\": {}, \"widget_settings\": {\"childWidgetDisplay\": \"popup\", \"send_telemetry\": false, \"log_level\": \"INFO\", \"sdk_version\": \"1.32.0\"}, \"loading\": false}"
          },
          "metadata": {}
        },
        {
          "output_type": "execute_result",
          "execution_count": 6,
          "data": {
            "text/plain": "{'runId': 'AutoML_8f8525ee-e6a1-462e-a49a-e549b66fe06f',\n 'target': 'govindk-nvidia-gpunode',\n 'status': 'Completed',\n 'startTimeUtc': '2021-08-24T03:29:58.635391Z',\n 'endTimeUtc': '2021-08-24T03:39:31.757813Z',\n 'properties': {'num_iterations': '30',\n  'training_type': 'TrainFull',\n  'acquisition_function': 'EI',\n  'primary_metric': 'accuracy',\n  'train_split': '0',\n  'acquisition_parameter': '0',\n  'num_cross_validation': '5',\n  'target': 'govindk-nvidia-gpunode',\n  'AMLSettingsJsonString': '{\"path\":null,\"name\":\"automl-experiment\",\"subscription_id\":\"417646f6-643f-4fcd-96b8-77997bfdfac3\",\"resource_group\":\"kgovind-ml-wksp\",\"workspace_name\":\"kgovindmlwk\",\"region\":\"eastus\",\"compute_target\":\"govindk-nvidia-gpunode\",\"spark_service\":null,\"azure_service\":\"remote\",\"many_models\":false,\"pipeline_fetch_max_batch_size\":1,\"enable_batch_run\":false,\"enable_run_restructure\":false,\"start_auxiliary_runs_before_parent_complete\":false,\"enable_code_generation\":false,\"iterations\":30,\"primary_metric\":\"accuracy\",\"task_type\":\"classification\",\"data_script\":null,\"test_size\":0.0,\"validation_size\":0.0,\"n_cross_validations\":5,\"y_min\":null,\"y_max\":null,\"num_classes\":null,\"featurization\":\"auto\",\"_ignore_package_version_incompatibilities\":false,\"is_timeseries\":false,\"max_cores_per_iteration\":1,\"max_concurrent_iterations\":30,\"iteration_timeout_minutes\":null,\"mem_in_mb\":null,\"enforce_time_on_windows\":false,\"experiment_timeout_minutes\":15,\"experiment_exit_score\":null,\"whitelist_models\":null,\"blacklist_algos\":[\"TensorFlowLinearClassifier\",\"TensorFlowDNN\"],\"supported_models\":[\"RandomForest\",\"LinearSVM\",\"GradientBoosting\",\"SGD\",\"DecisionTree\",\"ExtremeRandomTrees\",\"LogisticRegression\",\"BernoulliNaiveBayes\",\"KNN\",\"AveragedPerceptronClassifier\",\"TensorFlowLinearClassifier\",\"MultinomialNaiveBayes\",\"TensorFlowDNN\",\"LightGBM\",\"SVM\",\"XGBoostClassifier\"],\"private_models\":[],\"auto_blacklist\":true,\"blacklist_samples_reached\":false,\"exclude_nan_labels\":true,\"verbosity\":20,\"_debug_log\":\"azureml_automl.log\",\"show_warnings\":false,\"model_explainability\":true,\"service_url\":null,\"sdk_url\":null,\"sdk_packages\":null,\"enable_onnx_compatible_models\":false,\"enable_split_onnx_featurizer_estimator_models\":false,\"vm_type\":\"STANDARD_NC24\",\"telemetry_verbosity\":20,\"send_telemetry\":true,\"enable_dnn\":false,\"scenario\":\"SDK-1.13.0\",\"environment_label\":null,\"save_mlflow\":false,\"force_text_dnn\":false,\"enable_feature_sweeping\":true,\"enable_early_stopping\":true,\"early_stopping_n_iters\":10,\"metrics\":null,\"enable_metric_confidence\":false,\"enable_ensembling\":true,\"enable_stack_ensembling\":true,\"ensemble_iterations\":15,\"enable_tf\":false,\"enable_subsampling\":false,\"subsample_seed\":null,\"enable_nimbusml\":false,\"enable_streaming\":false,\"force_streaming\":false,\"track_child_runs\":true,\"allowed_private_models\":[],\"label_column_name\":\"target\",\"weight_column_name\":null,\"cv_split_column_names\":null,\"enable_local_managed\":false,\"_local_managed_run_id\":null,\"cost_mode\":1,\"lag_length\":0,\"metric_operation\":\"maximize\",\"preprocess\":true}',\n  'DataPrepJsonString': '{\\\\\"training_data\\\\\": {\\\\\"datasetId\\\\\": \\\\\"0e51b174-bc8d-447b-8df0-7d9cc315e7be\\\\\"}, \\\\\"datasets\\\\\": 0}',\n  'EnableSubsampling': 'False',\n  'runTemplate': 'AutoML',\n  'azureml.runsource': 'automl',\n  'display_task_type': 'classification',\n  'dependencies_versions': '{\"azureml-widgets\": \"1.32.0\", \"azureml-train\": \"1.32.0\", \"azureml-train-restclients-hyperdrive\": \"1.32.0\", \"azureml-train-core\": \"1.32.0\", \"azureml-train-automl\": \"1.32.0\", \"azureml-train-automl-runtime\": \"1.32.0\", \"azureml-train-automl-client\": \"1.32.0\", \"azureml-tensorboard\": \"1.32.0\", \"azureml-telemetry\": \"1.32.0\", \"azureml-sdk\": \"1.32.0\", \"azureml-samples\": \"0+unknown\", \"azureml-responsibleai\": \"1.32.0\", \"azureml-pipeline\": \"1.32.0\", \"azureml-pipeline-steps\": \"1.32.0\", \"azureml-pipeline-core\": \"1.32.0\", \"azureml-opendatasets\": \"1.32.0\", \"azureml-model-management-sdk\": \"1.0.1b6.post1\", \"azureml-mlflow\": \"1.32.0\", \"azureml-interpret\": \"1.32.0\", \"azureml-explain-model\": \"1.32.0\", \"azureml-defaults\": \"1.32.0\", \"azureml-dataset-runtime\": \"1.32.0\", \"azureml-dataprep\": \"2.18.0\", \"azureml-dataprep-rslex\": \"1.16.1\", \"azureml-dataprep-native\": \"36.0.0\", \"azureml-datadrift\": \"1.32.0\", \"azureml-core\": \"1.32.0\", \"azureml-contrib-services\": \"1.32.0\", \"azureml-contrib-server\": \"1.32.0\", \"azureml-contrib-reinforcementlearning\": \"1.32.0\", \"azureml-contrib-pipeline-steps\": \"1.32.0\", \"azureml-contrib-notebook\": \"1.32.0\", \"azureml-contrib-fairness\": \"1.32.0\", \"azureml-contrib-dataset\": \"1.32.0\", \"azureml-cli-common\": \"1.32.0\", \"azureml-automl-runtime\": \"1.32.0\", \"azureml-automl-dnn-nlp\": \"1.32.0\", \"azureml-automl-core\": \"1.32.0\", \"azureml-accel-models\": \"1.32.0\"}',\n  '_aml_system_scenario_identification': 'Remote.Parent',\n  'ClientType': 'SDK',\n  'environment_cpu_name': 'AzureML-AutoML',\n  'environment_cpu_label': 'prod',\n  'environment_gpu_name': 'AzureML-AutoML-GPU',\n  'environment_gpu_label': 'prod',\n  'root_attribution': 'automl',\n  'attribution': 'AutoML',\n  'Orchestrator': 'AutoML',\n  'CancelUri': 'https://eastus.api.azureml.ms/jasmine/v1.0/subscriptions/417646f6-643f-4fcd-96b8-77997bfdfac3/resourceGroups/kgovind-ml-wksp/providers/Microsoft.MachineLearningServices/workspaces/kgovindmlwk/experimentids/22b0680a-a3ff-492f-868a-0d535f1ba73e/cancel/AutoML_8f8525ee-e6a1-462e-a49a-e549b66fe06f',\n  'ClientSdkVersion': '1.33.0',\n  'snapshotId': '00000000-0000-0000-0000-000000000000',\n  'SetupRunId': 'AutoML_8f8525ee-e6a1-462e-a49a-e549b66fe06f_setup',\n  'SetupRunContainerId': 'dcid.AutoML_8f8525ee-e6a1-462e-a49a-e549b66fe06f_setup',\n  'FeaturizationRunJsonPath': 'featurizer_container.json',\n  'FeaturizationRunId': 'AutoML_8f8525ee-e6a1-462e-a49a-e549b66fe06f_featurize',\n  'ProblemInfoJsonString': '{\"dataset_num_categorical\": 0, \"is_sparse\": true, \"subsampling\": false, \"has_extra_col\": true, \"dataset_classes\": 2, \"dataset_features\": 27, \"dataset_samples\": 303, \"single_frequency_class_detected\": false}',\n  'ModelExplainRunId': 'AutoML_8f8525ee-e6a1-462e-a49a-e549b66fe06f_ModelExplain'},\n 'inputDatasets': [{'dataset': {'id': '0e51b174-bc8d-447b-8df0-7d9cc315e7be'}, 'consumptionDetails': {'type': 'RunInput', 'inputName': 'training_data', 'mechanism': 'Direct'}}],\n 'outputDatasets': [],\n 'logFiles': {},\n 'submittedBy': 'Govind Kamtamneni'}"
          },
          "metadata": {}
        }
      ],
      "execution_count": 6,
      "metadata": {
        "gather": {
          "logged": 1629776375344
        },
        "jupyter": {
          "outputs_hidden": false,
          "source_hidden": false
        },
        "nteract": {
          "transient": {
            "deleting": false
          }
        }
      }
    },
    {
      "cell_type": "markdown",
      "source": [
        "## Best Model\n",
        "\n",
        "TODO: In the cell below, get the best model from the automl experiments and display all the properties of the model.\n",
        "\n"
      ],
      "metadata": {}
    },
    {
      "cell_type": "code",
      "source": [
        "# Retrieve and save your best automl model.\n",
        "best_automl_run, best_model = remote_run.get_output()\n",
        "print(best_model)"
      ],
      "outputs": [
        {
          "output_type": "stream",
          "name": "stderr",
          "text": [
            "WARNING:root:The version of the SDK does not match the version the model was trained on.\n",
            "WARNING:root:The consistency in the result may not be guaranteed.\n",
            "WARNING:root:Package:azureml-automl-core, training version:1.33.0, current version:1.32.0\n",
            "Package:azureml-automl-runtime, training version:1.33.0, current version:1.32.0\n",
            "Package:azureml-core, training version:1.33.0, current version:1.32.0\n",
            "Package:azureml-dataprep, training version:2.20.1, current version:2.18.0\n",
            "Package:azureml-dataprep-native, training version:38.0.0, current version:36.0.0\n",
            "Package:azureml-dataprep-rslex, training version:1.18.1, current version:1.16.1\n",
            "Package:azureml-dataset-runtime, training version:1.33.0, current version:1.32.0\n",
            "Package:azureml-defaults, training version:1.33.0, current version:1.32.0\n",
            "Package:azureml-interpret, training version:1.33.0, current version:1.32.0\n",
            "Package:azureml-mlflow, training version:1.33.0, current version:1.32.0\n",
            "Package:azureml-pipeline-core, training version:1.33.0, current version:1.32.0\n",
            "Package:azureml-responsibleai, training version:1.33.0, current version:1.32.0\n",
            "Package:azureml-telemetry, training version:1.33.0, current version:1.32.0\n",
            "Package:azureml-train-automl-client, training version:1.33.0, current version:1.32.0\n",
            "Package:azureml-train-automl-runtime, training version:1.33.0, current version:1.32.0\n",
            "WARNING:root:Please ensure the version of your local conda dependencies match the version on which your model was trained in order to properly retrieve your model.\n"
          ]
        },
        {
          "output_type": "stream",
          "name": "stdout",
          "text": [
            "Pipeline(memory=None,\n",
            "         steps=[('datatransformer',\n",
            "                 DataTransformer(enable_dnn=False, enable_feature_sweeping=True, feature_sweeping_config={}, feature_sweeping_timeout=86400, featurization_config=None, force_text_dnn=False, is_cross_validation=True, is_onnx_compatible=False, observer=None, task='classification', working_dir='/mnt/batch/tasks/shared/LS_root/mount...\n",
            "                ('StandardScalerWrapper',\n",
            "                 StandardScalerWrapper(\n",
            "    copy=True,\n",
            "    with_mean=False,\n",
            "    with_std=False\n",
            ")),\n",
            "                ('LogisticRegression',\n",
            "                 LogisticRegression(C=51.79474679231202, class_weight=None,\n",
            "                                    dual=False, fit_intercept=True,\n",
            "                                    intercept_scaling=1, l1_ratio=None,\n",
            "                                    max_iter=100, multi_class='ovr', n_jobs=1,\n",
            "                                    penalty='l2', random_state=None,\n",
            "                                    solver='lbfgs', tol=0.0001, verbose=0,\n",
            "                                    warm_start=False))],\n",
            "         verbose=False)\n"
          ]
        }
      ],
      "execution_count": 7,
      "metadata": {
        "gather": {
          "logged": 1629776378296
        },
        "jupyter": {
          "outputs_hidden": false,
          "source_hidden": false
        },
        "nteract": {
          "transient": {
            "deleting": false
          }
        }
      }
    },
    {
      "cell_type": "markdown",
      "source": [
        "## Model Deployment\n",
        "\n",
        "Remember you have to deploy only one of the two models you trained.. Perform the steps in the rest of this notebook only if you wish to deploy this model.\n",
        "\n",
        "TODO: In the cell below, register the model, create an inference config and deploy the model as a web service."
      ],
      "metadata": {}
    },
    {
      "cell_type": "code",
      "source": [
        "model = best_automl_run.register_model(model_name = \"best_automl.pkl\", model_path = './outputs')\n",
        "model.download(exist_ok=True) # downlaod the model artifacts with the conda environment YAML file"
      ],
      "outputs": [
        {
          "output_type": "execute_result",
          "execution_count": 8,
          "data": {
            "text/plain": "'outputs'"
          },
          "metadata": {}
        }
      ],
      "execution_count": 8,
      "metadata": {
        "gather": {
          "logged": 1629776380192
        },
        "jupyter": {
          "outputs_hidden": false,
          "source_hidden": false
        },
        "nteract": {
          "transient": {
            "deleting": false
          }
        }
      }
    },
    {
      "cell_type": "code",
      "source": [
        "aci_config = AciWebservice.deploy_configuration(cpu_cores=2, memory_gb=15)\r\n",
        "environment = Environment.from_pip_requirements('govindk-automl-env', '/anaconda/envs/azureml_py36/lib/python3.6/site-packages/azureml/automl/core/validated_linux_requirements.txt')\r\n",
        "inference_config = InferenceConfig(entry_script='score.py', environment=environment)\r\n",
        "environment"
      ],
      "outputs": [
        {
          "output_type": "execute_result",
          "execution_count": 9,
          "data": {
            "text/plain": "{\n    \"databricks\": {\n        \"eggLibraries\": [],\n        \"jarLibraries\": [],\n        \"mavenLibraries\": [],\n        \"pypiLibraries\": [],\n        \"rcranLibraries\": []\n    },\n    \"docker\": {\n        \"arguments\": [],\n        \"baseDockerfile\": null,\n        \"baseImage\": \"mcr.microsoft.com/azureml/openmpi3.1.2-ubuntu18.04:20210615.v1\",\n        \"baseImageRegistry\": {\n            \"address\": null,\n            \"password\": null,\n            \"registryIdentity\": null,\n            \"username\": null\n        },\n        \"enabled\": false,\n        \"platform\": {\n            \"architecture\": \"amd64\",\n            \"os\": \"Linux\"\n        },\n        \"sharedVolumes\": true,\n        \"shmSize\": \"2g\"\n    },\n    \"environmentVariables\": {\n        \"EXAMPLE_ENV_VAR\": \"EXAMPLE_VALUE\"\n    },\n    \"inferencingStackVersion\": null,\n    \"name\": \"govindk-automl-env\",\n    \"python\": {\n        \"baseCondaEnvironment\": null,\n        \"condaDependencies\": {\n            \"channels\": [\n                \"anaconda\",\n                \"conda-forge\"\n            ],\n            \"dependencies\": [\n                \"python=3.6.2\",\n                {\n                    \"pip\": [\n                        \"adal<=1.2.7\",\n                        \"applicationinsights<=0.11.10\",\n                        \"azure-common<=1.1.27\",\n                        \"azure-core<=1.15.0\",\n                        \"azure-graphrbac<=0.61.1\",\n                        \"azure-identity<=1.4.1\",\n                        \"azure-mgmt-authorization<=0.61.0\",\n                        \"azure-mgmt-containerregistry<=8.0.0\",\n                        \"azure-mgmt-core<=1.2.2\",\n                        \"azure-mgmt-keyvault<=9.0.0\",\n                        \"azure-mgmt-resource<=13.0.0\",\n                        \"azure-mgmt-storage<=11.2.0\",\n                        \"azure-storage-queue<=12.1.6\",\n                        \"azureml-automl-core~=1.32.0\",\n                        \"azureml-automl-runtime~=1.32.0\",\n                        \"azureml-core~=1.32.0\",\n                        \"azureml-dataprep<=2.18.0\",\n                        \"azureml-dataprep-native<=36.0.0\",\n                        \"azureml-dataprep-rslex<=1.16.1\",\n                        \"azureml-dataset-runtime~=1.32.0\",\n                        \"azureml-defaults~=1.32.0\",\n                        \"azureml-interpret~=1.32.0\",\n                        \"azureml-model-management-sdk<=1.0.1b6.post1\",\n                        \"azureml-pipeline-core~=1.32.0\",\n                        \"azureml-pipeline-steps~=1.32.0\",\n                        \"azureml-telemetry~=1.32.0\",\n                        \"azureml-train-automl~=1.32.0\",\n                        \"azureml-train-automl-client~=1.32.0\",\n                        \"azureml-train-automl-runtime~=1.32.0\",\n                        \"azureml-train-core~=1.32.0\",\n                        \"azureml-train-restclients-hyperdrive~=1.32.0\",\n                        \"backports.tempfile<=1.0\",\n                        \"backports.weakref<=1.0.post1\",\n                        \"boto<=2.49.0\",\n                        \"boto3<=1.15.18\",\n                        \"botocore<=1.18.18\",\n                        \"cachetools<=4.2.2\",\n                        \"certifi<=2021.5.30\",\n                        \"cffi<=1.14.5\",\n                        \"chardet<=4.0.0\",\n                        \"click<=8.0.1\",\n                        \"cloudpickle<=1.6.0\",\n                        \"configparser<=3.7.4\",\n                        \"contextlib2<=0.6.0.post1\",\n                        \"cryptography<=3.4.7\",\n                        \"Cython<=0.29.23\",\n                        \"dill<=0.3.4\",\n                        \"distro<=1.5.0\",\n                        \"docker<=4.4.4\",\n                        \"dotnetcore2<=2.1.21\",\n                        \"fire<=0.4.0\",\n                        \"Flask<=1.0.3\",\n                        \"flatbuffers<=2.0\",\n                        \"fusepy<=3.0.1\",\n                        \"gensim<=3.8.3\",\n                        \"google-api-core<=1.30.0\",\n                        \"google-auth<=1.32.1\",\n                        \"googleapis-common-protos<=1.53.0\",\n                        \"gunicorn<=20.1.0\",\n                        \"idna<=2.10\",\n                        \"importlib-metadata<=4.6.0\",\n                        \"interpret-community<=0.18.1\",\n                        \"interpret-core<=0.2.4\",\n                        \"isodate<=0.6.0\",\n                        \"itsdangerous<=2.0.1\",\n                        \"jeepney<=0.6.0\",\n                        \"Jinja2<=2.11.2\",\n                        \"jmespath<=0.10.0\",\n                        \"joblib<=0.14.1\",\n                        \"json-logging-py<=0.2\",\n                        \"jsonpickle<=2.0.0\",\n                        \"keras2onnx<=1.6.0\",\n                        \"liac-arff<=2.5.0\",\n                        \"lightgbm<=2.3.0\",\n                        \"llvmlite<=0.36.0\",\n                        \"MarkupSafe<=2.0.1\",\n                        \"msal<=1.12.0\",\n                        \"msal-extensions<=0.2.2\",\n                        \"msrest<=0.6.21\",\n                        \"msrestazure<=0.6.4\",\n                        \"ndg-httpsclient<=0.5.1\",\n                        \"nimbusml<=1.8.0\",\n                        \"numba<=0.53.1\",\n                        \"numpy<=1.18.5\",\n                        \"oauthlib<=3.1.1\",\n                        \"onnx<=1.7.0\",\n                        \"onnxconverter-common<=1.6.0\",\n                        \"onnxmltools<=1.4.1\",\n                        \"onnxruntime<=1.8.0\",\n                        \"opencensus<=0.7.13\",\n                        \"opencensus-context<=0.1.2\",\n                        \"opencensus-ext-azure<=1.0.8\",\n                        \"packaging<=20.9\",\n                        \"pandas<=0.25.3\",\n                        \"pathspec<=0.8.1\",\n                        \"patsy<=0.5.1\",\n                        \"pmdarima<=1.1.1\",\n                        \"portalocker<=1.7.1\",\n                        \"protobuf<=3.17.3\",\n                        \"psutil<=5.8.0\",\n                        \"py-cpuinfo<=5.0.0\",\n                        \"pyarrow<=3.0.0\",\n                        \"pyasn1<=0.4.8\",\n                        \"pyasn1-modules<=0.2.8\",\n                        \"pycparser<=2.20\",\n                        \"PyJWT<=2.1.0\",\n                        \"pyOpenSSL<=20.0.1\",\n                        \"pyparsing<=2.4.7\",\n                        \"python-dateutil<=2.8.1\",\n                        \"pytz<=2021.1\",\n                        \"requests<=2.25.1\",\n                        \"requests-oauthlib<=1.3.0\",\n                        \"rsa<=4.7.2\",\n                        \"ruamel.yaml<=0.17.4\",\n                        \"ruamel.yaml.clib<=0.2.4\",\n                        \"s3transfer<=0.3.7\",\n                        \"scikit-learn<=0.22.2.post1\",\n                        \"scipy<=1.5.2\",\n                        \"SecretStorage<=3.3.1\",\n                        \"shap<=0.39.0\",\n                        \"six<=1.16.0\",\n                        \"skl2onnx<=1.4.9\",\n                        \"sklearn-pandas<=1.7.0\",\n                        \"slicer<=0.0.7\",\n                        \"smart-open<=1.9.0\",\n                        \"statsmodels<=0.10.2\",\n                        \"termcolor<=1.1.0\",\n                        \"tqdm<=4.61.1\",\n                        \"typing-extensions<=3.10.0.0\",\n                        \"urllib3<=1.25.11\",\n                        \"websocket-client<=1.1.0\",\n                        \"Werkzeug<=1.0.1\",\n                        \"zipp<=3.4.1\"\n                    ]\n                },\n                \"pip\"\n            ],\n            \"name\": \"project_environment\"\n        },\n        \"condaDependenciesFile\": null,\n        \"interpreterPath\": \"python\",\n        \"userManagedDependencies\": false\n    },\n    \"r\": null,\n    \"spark\": {\n        \"packages\": [],\n        \"precachePackages\": true,\n        \"repositories\": []\n    },\n    \"version\": null\n}"
          },
          "metadata": {}
        }
      ],
      "execution_count": 9,
      "metadata": {
        "collapsed": true,
        "jupyter": {
          "source_hidden": false,
          "outputs_hidden": false
        },
        "nteract": {
          "transient": {
            "deleting": false
          }
        },
        "gather": {
          "logged": 1629776380291
        }
      }
    },
    {
      "cell_type": "code",
      "source": [
        "\n",
        "service = model.deploy(\n",
        "    workspace=ws,\n",
        "    name=\"capstone-govindk-deploy\",\n",
        "    models=[model],\n",
        "    inference_config=inference_config,\n",
        "    deployment_config=aci_config,\n",
        "    overwrite=True\n",
        ")\n",
        "service.wait_for_deployment(show_output=True)"
      ],
      "outputs": [
        {
          "output_type": "stream",
          "name": "stdout",
          "text": [
            "Tips: You can try get_logs(): https://aka.ms/debugimage#dockerlog or local deployment: https://aka.ms/debugimage#debug-locally to debug if deployment takes longer than 10 minutes.\n",
            "Running\n",
            "2021-08-24 03:39:43+00:00 Creating Container Registry if not exists.\n",
            "2021-08-24 03:39:44+00:00 Use the existing image.\n",
            "2021-08-24 03:39:44+00:00 Generating deployment configuration.\n",
            "2021-08-24 03:39:45+00:00 Submitting deployment to compute.\n",
            "2021-08-24 03:39:49+00:00 Checking the status of deployment capstone-govindk-deploy..\n",
            "2021-08-24 03:42:09+00:00 Checking the status of inference endpoint capstone-govindk-deploy.\n",
            "Succeeded\n",
            "ACI service creation operation finished, operation \"Succeeded\"\n"
          ]
        }
      ],
      "execution_count": 10,
      "metadata": {
        "gather": {
          "logged": 1629776535179
        },
        "jupyter": {
          "outputs_hidden": false,
          "source_hidden": false
        },
        "nteract": {
          "transient": {
            "deleting": false
          }
        }
      }
    },
    {
      "cell_type": "code",
      "source": [
        "service.update(enable_app_insights=True)"
      ],
      "outputs": [],
      "execution_count": 11,
      "metadata": {
        "gather": {
          "logged": 1629776537171
        },
        "jupyter": {
          "outputs_hidden": false,
          "source_hidden": false
        },
        "nteract": {
          "transient": {
            "deleting": false
          }
        }
      }
    },
    {
      "cell_type": "markdown",
      "source": [
        "TODO: In the cell below, send a request to the web service you deployed to test it."
      ],
      "metadata": {
        "collapsed": true,
        "gather": {
          "logged": 1598431657736
        },
        "jupyter": {
          "outputs_hidden": false,
          "source_hidden": false
        },
        "nteract": {
          "transient": {
            "deleting": false
          }
        }
      }
    },
    {
      "cell_type": "code",
      "source": [
        "x = df.iloc[0, :-1].to_dict()\n",
        "y = df.iloc[0, -1]"
      ],
      "outputs": [],
      "execution_count": 23,
      "metadata": {
        "gather": {
          "logged": 1629788861519
        },
        "jupyter": {
          "outputs_hidden": false,
          "source_hidden": false
        },
        "nteract": {
          "transient": {
            "deleting": false
          }
        }
      }
    },
    {
      "cell_type": "code",
      "source": [
        "import json\n",
        "import numpy as np\n",
        "input_payload = json.dumps({\n",
        "    'data': x\n",
        "})\n",
        "print(input_payload)\n",
        "output = service.run(input_payload)\n",
        "print(f\"Predicted: {output}\\nExpected: {y}\")"
      ],
      "outputs": [
        {
          "output_type": "stream",
          "name": "stdout",
          "text": [
            "{\"data\": {\"age\": 63.0, \"sex\": 1.0, \"cp\": 3.0, \"trestbps\": 145.0, \"chol\": 233.0, \"fbs\": 1.0, \"restecg\": 0.0, \"thalach\": 150.0, \"exang\": 0.0, \"oldpeak\": 2.3, \"slope\": 0.0, \"ca\": 0.0, \"thal\": 1.0}}\n",
            "Predicted: [1]\n",
            "Expected: 1\n"
          ]
        }
      ],
      "execution_count": 27,
      "metadata": {
        "gather": {
          "logged": 1629846412520
        },
        "jupyter": {
          "outputs_hidden": false,
          "source_hidden": false
        },
        "nteract": {
          "transient": {
            "deleting": false
          }
        }
      }
    },
    {
      "cell_type": "markdown",
      "source": [
        "TODO: In the cell below, print the logs of the web service and delete the service"
      ],
      "metadata": {
        "collapsed": true,
        "gather": {
          "logged": 1598432765711
        },
        "jupyter": {
          "outputs_hidden": false,
          "source_hidden": false
        },
        "nteract": {
          "transient": {
            "deleting": false
          }
        }
      }
    },
    {
      "cell_type": "code",
      "source": [
        "logs = service.get_logs()\n",
        "print(logs)\n"
      ],
      "outputs": [
        {
          "output_type": "stream",
          "name": "stdout",
          "text": [
            "2021-08-24T03:45:21,111539500+00:00 - gunicorn/run \n",
            "File not found: /var/azureml-app/.\n",
            "Starting HTTP server\n",
            "2021-08-24T03:45:21,115672200+00:00 - rsyslog/run \n",
            "2021-08-24T03:45:21,118021900+00:00 - iot-server/run \n",
            "2021-08-24T03:45:21,128375800+00:00 - nginx/run \n",
            "EdgeHubConnectionString and IOTEDGE_IOTHUBHOSTNAME are not set. Exiting...\n",
            "2021-08-24T03:45:21,407112800+00:00 - iot-server/finish 1 0\n",
            "2021-08-24T03:45:21,412029700+00:00 - Exit code 1 is normal. Not restarting iot-server.\n",
            "Starting gunicorn 20.1.0\n",
            "Listening at: http://127.0.0.1:31311 (62)\n",
            "Using worker: sync\n",
            "worker timeout is set to 300\n",
            "Booting worker with pid: 94\n",
            "SPARK_HOME not set. Skipping PySpark Initialization.\n",
            "Initializing logger\n",
            "2021-08-24 03:45:25,527 | root | INFO | Starting up app insights client\n",
            "logging socket was found. logging is available.\n",
            "logging socket was found. logging is available.\n",
            "2021-08-24 03:45:25,529 | root | INFO | Starting up request id generator\n",
            "2021-08-24 03:45:25,529 | root | INFO | Starting up app insight hooks\n",
            "2021-08-24 03:45:25,530 | root | INFO | Invoking user's init function\n",
            "model initialized03:45:25\n",
            "no request id,model initialized03:45:25\n",
            "\n",
            "/azureml-envs/azureml_17ca25337914e9f3b97ca4dc6260ad2d/lib/python3.6/site-packages/sklearn/externals/joblib/__init__.py:15: FutureWarning: sklearn.externals.joblib is deprecated in 0.21 and will be removed in 0.23. Please import this functionality directly from joblib, which can be installed with: pip install joblib. If this warning is raised when loading pickled models, you may need to re-serialize those models with scikit-learn 0.21+.\n",
            "  warnings.warn(msg, category=FutureWarning)\n",
            "2021-08-24 03:45:27,269 | root | INFO | Users's init has completed successfully\n",
            "2021-08-24 03:45:27,275 | root | INFO | Skipping middleware: dbg_model_info as it's not enabled.\n",
            "2021-08-24 03:45:27,275 | root | INFO | Skipping middleware: dbg_resource_usage as it's not enabled.\n",
            "2021-08-24 03:45:27,276 | root | INFO | Scoring timeout is found from os.environ: 60000 ms\n",
            "2021-08-24 03:46:13,262 | root | INFO | Swagger file not present\n",
            "2021-08-24 03:46:13,262 | root | INFO | 404\n",
            "127.0.0.1 - - [24/Aug/2021:03:46:13 +0000] \"GET /swagger.json HTTP/1.0\" 404 19 \"-\" \"Go-http-client/1.1\"\n",
            "127.0.0.1 - - [24/Aug/2021:04:05:07 +0000] \"POST /boaform/admin/formLogin HTTP/1.0\" 404 232 \"http://52.170.167.156:80/admin/login.asp\" \"Mozilla/5.0 (X11; Ubuntu; Linux x86_64; rv:71.0) Gecko/20100101 Firefox/71.0\"\n",
            "127.0.0.1 - - [24/Aug/2021:06:19:27 +0000] \"GET /phpinfo.php HTTP/1.0\" 404 232 \"-\" \"Mozilla/5.0 (Macintosh; Intel Mac OS X 11_5_2) AppleWebKit/537.36 (KHTML, like Gecko) Chrome/92.0.4515.159 Safari/537.36\"\n",
            "2021-08-24 07:07:49,141 | root | INFO | Validation Request Content-Type\n",
            "2021-08-24 07:07:49,141 | root | INFO | Scoring Timer is set to 60.0 seconds\n",
            "{\"input\": {\"data\": {\"age\": 63.0, \"sex\": 1.0, \"cp\": 3.0, \"trestbps\": 145.0, \"chol\": 233.0, \"fbs\": 1.0, \"restecg\": 0.0, \"thalach\": 150.0, \"exang\": 0.0, \"oldpeak\": 2.3, \"slope\": 0.0, \"ca\": 0.0, \"thal\": 1.0}}, \"output\": [1]}\n",
            "b3b12f31-4fe2-4b6b-b4e0-7a4367f16c92,{\"input\": {\"data\": {\"age\": 63.0, \"sex\": 1.0, \"cp\": 3.0, \"trestbps\": 145.0, \"chol\": 233.0, \"fbs\": 1.0, \"restecg\": 0.0, \"thalach\": 150.0, \"exang\": 0.0, \"oldpeak\": 2.3, \"slope\": 0.0, \"ca\": 0.0, \"thal\": 1.0}}, \"output\": [1]}\n",
            "\n",
            "2021-08-24 07:07:49,221 | root | INFO | 200\n",
            "127.0.0.1 - - [24/Aug/2021:07:07:49 +0000] \"POST /score HTTP/1.0\" 200 3 \"-\" \"python-requests/2.26.0\"\n",
            "\n"
          ]
        }
      ],
      "execution_count": 25,
      "metadata": {
        "gather": {
          "logged": 1629788877446
        },
        "jupyter": {
          "outputs_hidden": false,
          "source_hidden": false
        },
        "nteract": {
          "transient": {
            "deleting": false
          }
        }
      }
    },
    {
      "cell_type": "code",
      "source": [
        "service.delete()"
      ],
      "outputs": [],
      "execution_count": null,
      "metadata": {}
    },
    {
      "cell_type": "code",
      "source": [],
      "outputs": [],
      "execution_count": null,
      "metadata": {}
    }
  ],
  "metadata": {
    "kernel_info": {
      "name": "python3-azureml"
    },
    "kernelspec": {
      "name": "python3-azureml",
      "language": "python",
      "display_name": "Python 3.6 - AzureML"
    },
    "language_info": {
      "name": "python",
      "version": "3.6.9",
      "mimetype": "text/x-python",
      "codemirror_mode": {
        "name": "ipython",
        "version": 3
      },
      "pygments_lexer": "ipython3",
      "nbconvert_exporter": "python",
      "file_extension": ".py"
    },
    "nteract": {
      "version": "nteract-front-end@1.0.0"
    },
    "microsoft": {
      "host": {
        "AzureML": {
          "notebookHasBeenCompleted": true
        }
      }
    }
  },
  "nbformat": 4,
  "nbformat_minor": 2
}